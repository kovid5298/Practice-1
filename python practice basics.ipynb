{
 "cells": [
  {
   "cell_type": "code",
   "execution_count": 1,
   "metadata": {
    "scrolled": true
   },
   "outputs": [
    {
     "name": "stdout",
     "output_type": "stream",
     "text": [
      "11 / 12 / 2014\n"
     ]
    }
   ],
   "source": [
    "exam = (11,12,2014)\n",
    "print(\"%i / %i / %i\"%exam)"
   ]
  },
  {
   "cell_type": "code",
   "execution_count": 3,
   "metadata": {},
   "outputs": [
    {
     "data": {
      "text/plain": [
       "['f', 'java']"
      ]
     },
     "execution_count": 3,
     "metadata": {},
     "output_type": "execute_result"
    }
   ],
   "source": [
    "f_extns\n"
   ]
  },
  {
   "cell_type": "code",
   "execution_count": 6,
   "metadata": {},
   "outputs": [
    {
     "name": "stdout",
     "output_type": "stream",
     "text": [
      "java\n"
     ]
    }
   ],
   "source": [
    "print(f_extns[-1])"
   ]
  },
  {
   "cell_type": "code",
   "execution_count": 7,
   "metadata": {},
   "outputs": [
    {
     "data": {
      "text/plain": [
       "list"
      ]
     },
     "execution_count": 7,
     "metadata": {},
     "output_type": "execute_result"
    }
   ],
   "source": [
    "color_list = [\"Red\",\"Green\",\"White\" ,\"Black\"]\n",
    "type(color_list)"
   ]
  },
  {
   "cell_type": "code",
   "execution_count": 17,
   "metadata": {},
   "outputs": [
    {
     "name": "stdout",
     "output_type": "stream",
     "text": [
      " 11 / 12 / 2014\n"
     ]
    }
   ],
   "source": [
    "exam = (11,12,2014)\n",
    "print( \" %i / %i / %i\"%exam_st_date)\n"
   ]
  },
  {
   "cell_type": "code",
   "execution_count": 2,
   "metadata": {},
   "outputs": [
    {
     "name": "stdout",
     "output_type": "stream",
     "text": [
      "Input an integer : 5\n"
     ]
    },
    {
     "data": {
      "text/plain": [
       "60"
      ]
     },
     "execution_count": 2,
     "metadata": {},
     "output_type": "execute_result"
    }
   ],
   "source": [
    "a = int(input(\"Input an integer : \"))\n",
    "n1 = int( \"%s\" % a )\n",
    "n2 = int( \"%s%s\" % (a,a) )\n",
    "n3 = int( \"%s%s%s\" % (a,a,a) )\n",
    "n1+n2"
   ]
  },
  {
   "cell_type": "code",
   "execution_count": 34,
   "metadata": {},
   "outputs": [
    {
     "name": "stdout",
     "output_type": "stream",
     "text": [
      "a\n"
     ]
    },
    {
     "data": {
      "text/plain": [
       "'aa'"
      ]
     },
     "execution_count": 34,
     "metadata": {},
     "output_type": "execute_result"
    }
   ],
   "source": [
    "x=input()\n",
    "x1=(\"%s%s\"%(x,x))\n",
    "x1"
   ]
  },
  {
   "cell_type": "code",
   "execution_count": 3,
   "metadata": {},
   "outputs": [
    {
     "data": {
      "text/plain": [
       "'3.7.6 (default, Jan  8 2020, 20:23:39) [MSC v.1916 64 bit (AMD64)]'"
      ]
     },
     "execution_count": 3,
     "metadata": {},
     "output_type": "execute_result"
    }
   ],
   "source": [
    "import sys\n",
    "sys.version\n"
   ]
  },
  {
   "cell_type": "code",
   "execution_count": 8,
   "metadata": {},
   "outputs": [
    {
     "name": "stdout",
     "output_type": "stream",
     "text": [
      "Input the year : 2020\n",
      "Input the month : 10\n",
      "    October 2020\n",
      "Mo Tu We Th Fr Sa Su\n",
      "          1  2  3  4\n",
      " 5  6  7  8  9 10 11\n",
      "12 13 14 15 16 17 18\n",
      "19 20 21 22 23 24 25\n",
      "26 27 28 29 30 31\n",
      "\n"
     ]
    }
   ],
   "source": [
    "import calendar\n",
    "y = int(input(\"Input the year : \"))\n",
    "m = int(input(\"Input the month : \"))\n",
    "print(calendar.month(y, m))"
   ]
  },
  {
   "cell_type": "code",
   "execution_count": 2,
   "metadata": {},
   "outputs": [
    {
     "name": "stdout",
     "output_type": "stream",
     "text": [
      "t;l][6]5\n"
     ]
    },
    {
     "ename": "KeyboardInterrupt",
     "evalue": "",
     "output_type": "error",
     "traceback": [
      "\u001b[1;31m---------------------------------------------------------------------------\u001b[0m",
      "\u001b[1;31mKeyboardInterrupt\u001b[0m                         Traceback (most recent call last)",
      "\u001b[1;32m~\\anaconda3\\lib\\site-packages\\ipykernel\\kernelbase.py\u001b[0m in \u001b[0;36m_input_request\u001b[1;34m(self, prompt, ident, parent, password)\u001b[0m\n\u001b[0;32m    883\u001b[0m             \u001b[1;32mtry\u001b[0m\u001b[1;33m:\u001b[0m\u001b[1;33m\u001b[0m\u001b[1;33m\u001b[0m\u001b[0m\n\u001b[1;32m--> 884\u001b[1;33m                 \u001b[0mident\u001b[0m\u001b[1;33m,\u001b[0m \u001b[0mreply\u001b[0m \u001b[1;33m=\u001b[0m \u001b[0mself\u001b[0m\u001b[1;33m.\u001b[0m\u001b[0msession\u001b[0m\u001b[1;33m.\u001b[0m\u001b[0mrecv\u001b[0m\u001b[1;33m(\u001b[0m\u001b[0mself\u001b[0m\u001b[1;33m.\u001b[0m\u001b[0mstdin_socket\u001b[0m\u001b[1;33m,\u001b[0m \u001b[1;36m0\u001b[0m\u001b[1;33m)\u001b[0m\u001b[1;33m\u001b[0m\u001b[1;33m\u001b[0m\u001b[0m\n\u001b[0m\u001b[0;32m    885\u001b[0m             \u001b[1;32mexcept\u001b[0m \u001b[0mException\u001b[0m\u001b[1;33m:\u001b[0m\u001b[1;33m\u001b[0m\u001b[1;33m\u001b[0m\u001b[0m\n",
      "\u001b[1;32m~\\anaconda3\\lib\\site-packages\\jupyter_client\\session.py\u001b[0m in \u001b[0;36mrecv\u001b[1;34m(self, socket, mode, content, copy)\u001b[0m\n\u001b[0;32m    802\u001b[0m         \u001b[1;32mtry\u001b[0m\u001b[1;33m:\u001b[0m\u001b[1;33m\u001b[0m\u001b[1;33m\u001b[0m\u001b[0m\n\u001b[1;32m--> 803\u001b[1;33m             \u001b[0mmsg_list\u001b[0m \u001b[1;33m=\u001b[0m \u001b[0msocket\u001b[0m\u001b[1;33m.\u001b[0m\u001b[0mrecv_multipart\u001b[0m\u001b[1;33m(\u001b[0m\u001b[0mmode\u001b[0m\u001b[1;33m,\u001b[0m \u001b[0mcopy\u001b[0m\u001b[1;33m=\u001b[0m\u001b[0mcopy\u001b[0m\u001b[1;33m)\u001b[0m\u001b[1;33m\u001b[0m\u001b[1;33m\u001b[0m\u001b[0m\n\u001b[0m\u001b[0;32m    804\u001b[0m         \u001b[1;32mexcept\u001b[0m \u001b[0mzmq\u001b[0m\u001b[1;33m.\u001b[0m\u001b[0mZMQError\u001b[0m \u001b[1;32mas\u001b[0m \u001b[0me\u001b[0m\u001b[1;33m:\u001b[0m\u001b[1;33m\u001b[0m\u001b[1;33m\u001b[0m\u001b[0m\n",
      "\u001b[1;32m~\\anaconda3\\lib\\site-packages\\zmq\\sugar\\socket.py\u001b[0m in \u001b[0;36mrecv_multipart\u001b[1;34m(self, flags, copy, track)\u001b[0m\n\u001b[0;32m    474\u001b[0m         \"\"\"\n\u001b[1;32m--> 475\u001b[1;33m         \u001b[0mparts\u001b[0m \u001b[1;33m=\u001b[0m \u001b[1;33m[\u001b[0m\u001b[0mself\u001b[0m\u001b[1;33m.\u001b[0m\u001b[0mrecv\u001b[0m\u001b[1;33m(\u001b[0m\u001b[0mflags\u001b[0m\u001b[1;33m,\u001b[0m \u001b[0mcopy\u001b[0m\u001b[1;33m=\u001b[0m\u001b[0mcopy\u001b[0m\u001b[1;33m,\u001b[0m \u001b[0mtrack\u001b[0m\u001b[1;33m=\u001b[0m\u001b[0mtrack\u001b[0m\u001b[1;33m)\u001b[0m\u001b[1;33m]\u001b[0m\u001b[1;33m\u001b[0m\u001b[1;33m\u001b[0m\u001b[0m\n\u001b[0m\u001b[0;32m    476\u001b[0m         \u001b[1;31m# have first part already, only loop while more to receive\u001b[0m\u001b[1;33m\u001b[0m\u001b[1;33m\u001b[0m\u001b[1;33m\u001b[0m\u001b[0m\n",
      "\u001b[1;32mzmq/backend/cython/socket.pyx\u001b[0m in \u001b[0;36mzmq.backend.cython.socket.Socket.recv\u001b[1;34m()\u001b[0m\n",
      "\u001b[1;32mzmq/backend/cython/socket.pyx\u001b[0m in \u001b[0;36mzmq.backend.cython.socket.Socket.recv\u001b[1;34m()\u001b[0m\n",
      "\u001b[1;32mzmq/backend/cython/socket.pyx\u001b[0m in \u001b[0;36mzmq.backend.cython.socket._recv_copy\u001b[1;34m()\u001b[0m\n",
      "\u001b[1;32m~\\anaconda3\\lib\\site-packages\\zmq\\backend\\cython\\checkrc.pxd\u001b[0m in \u001b[0;36mzmq.backend.cython.checkrc._check_rc\u001b[1;34m()\u001b[0m\n",
      "\u001b[1;31mKeyboardInterrupt\u001b[0m: ",
      "\nDuring handling of the above exception, another exception occurred:\n",
      "\u001b[1;31mKeyboardInterrupt\u001b[0m                         Traceback (most recent call last)",
      "\u001b[1;32m<ipython-input-2-83f92144d086>\u001b[0m in \u001b[0;36m<module>\u001b[1;34m\u001b[0m\n\u001b[0;32m      1\u001b[0m \u001b[1;32mfrom\u001b[0m \u001b[0mdatetime\u001b[0m \u001b[1;32mimport\u001b[0m \u001b[0mdate\u001b[0m\u001b[1;33m\u001b[0m\u001b[1;33m\u001b[0m\u001b[0m\n\u001b[1;32m----> 2\u001b[1;33m \u001b[0mf\u001b[0m\u001b[1;33m=\u001b[0m\u001b[0mint\u001b[0m\u001b[1;33m(\u001b[0m\u001b[0minput\u001b[0m\u001b[1;33m(\u001b[0m\u001b[1;33m)\u001b[0m\u001b[1;33m)\u001b[0m\u001b[1;33m\u001b[0m\u001b[1;33m\u001b[0m\u001b[0m\n\u001b[0m\u001b[0;32m      3\u001b[0m \u001b[0mlist\u001b[0m\u001b[1;33m=\u001b[0m\u001b[0mf\u001b[0m\u001b[1;33m.\u001b[0m\u001b[0msplit\u001b[0m\u001b[1;33m(\u001b[0m\u001b[1;34m\",\"\u001b[0m\u001b[1;33m)\u001b[0m\u001b[1;33m\u001b[0m\u001b[1;33m\u001b[0m\u001b[0m\n\u001b[0;32m      4\u001b[0m \u001b[0ml\u001b[0m\u001b[1;33m=\u001b[0m\u001b[0mtuple\u001b[0m\u001b[1;33m(\u001b[0m\u001b[0mlist\u001b[0m\u001b[1;33m)\u001b[0m\u001b[1;33m\u001b[0m\u001b[1;33m\u001b[0m\u001b[0m\n\u001b[0;32m      5\u001b[0m \u001b[0mf\u001b[0m\u001b[1;33m=\u001b[0m\u001b[0mdate\u001b[0m\u001b[1;33m(\u001b[0m\u001b[0ml\u001b[0m\u001b[1;33m)\u001b[0m\u001b[1;33m\u001b[0m\u001b[1;33m\u001b[0m\u001b[0m\n",
      "\u001b[1;32m~\\anaconda3\\lib\\site-packages\\ipykernel\\kernelbase.py\u001b[0m in \u001b[0;36mraw_input\u001b[1;34m(self, prompt)\u001b[0m\n\u001b[0;32m    857\u001b[0m             \u001b[0mself\u001b[0m\u001b[1;33m.\u001b[0m\u001b[0m_parent_ident\u001b[0m\u001b[1;33m,\u001b[0m\u001b[1;33m\u001b[0m\u001b[1;33m\u001b[0m\u001b[0m\n\u001b[0;32m    858\u001b[0m             \u001b[0mself\u001b[0m\u001b[1;33m.\u001b[0m\u001b[0m_parent_header\u001b[0m\u001b[1;33m,\u001b[0m\u001b[1;33m\u001b[0m\u001b[1;33m\u001b[0m\u001b[0m\n\u001b[1;32m--> 859\u001b[1;33m             \u001b[0mpassword\u001b[0m\u001b[1;33m=\u001b[0m\u001b[1;32mFalse\u001b[0m\u001b[1;33m,\u001b[0m\u001b[1;33m\u001b[0m\u001b[1;33m\u001b[0m\u001b[0m\n\u001b[0m\u001b[0;32m    860\u001b[0m         )\n\u001b[0;32m    861\u001b[0m \u001b[1;33m\u001b[0m\u001b[0m\n",
      "\u001b[1;32m~\\anaconda3\\lib\\site-packages\\ipykernel\\kernelbase.py\u001b[0m in \u001b[0;36m_input_request\u001b[1;34m(self, prompt, ident, parent, password)\u001b[0m\n\u001b[0;32m    887\u001b[0m             \u001b[1;32mexcept\u001b[0m \u001b[0mKeyboardInterrupt\u001b[0m\u001b[1;33m:\u001b[0m\u001b[1;33m\u001b[0m\u001b[1;33m\u001b[0m\u001b[0m\n\u001b[0;32m    888\u001b[0m                 \u001b[1;31m# re-raise KeyboardInterrupt, to truncate traceback\u001b[0m\u001b[1;33m\u001b[0m\u001b[1;33m\u001b[0m\u001b[1;33m\u001b[0m\u001b[0m\n\u001b[1;32m--> 889\u001b[1;33m                 \u001b[1;32mraise\u001b[0m \u001b[0mKeyboardInterrupt\u001b[0m\u001b[1;33m\u001b[0m\u001b[1;33m\u001b[0m\u001b[0m\n\u001b[0m\u001b[0;32m    890\u001b[0m             \u001b[1;32melse\u001b[0m\u001b[1;33m:\u001b[0m\u001b[1;33m\u001b[0m\u001b[1;33m\u001b[0m\u001b[0m\n\u001b[0;32m    891\u001b[0m                 \u001b[1;32mbreak\u001b[0m\u001b[1;33m\u001b[0m\u001b[1;33m\u001b[0m\u001b[0m\n",
      "\u001b[1;31mKeyboardInterrupt\u001b[0m: "
     ]
    }
   ],
   "source": [
    "from datetime import date\n",
    "f=int(input())\n",
    "list=f.split(\",\")\n",
    "l=tuple(list)\n",
    "f=date(l)\n",
    "l=date(2020,11,30)\n",
    "d=l-f\n",
    "print(d.days)"
   ]
  },
  {
   "cell_type": "code",
   "execution_count": 10,
   "metadata": {
    "scrolled": true
   },
   "outputs": [
    {
     "name": "stdout",
     "output_type": "stream",
     "text": [
      "2020,11,7\n"
     ]
    },
    {
     "ename": "TypeError",
     "evalue": "float() argument must be a string or a number, not 'list'",
     "output_type": "error",
     "traceback": [
      "\u001b[1;31m---------------------------------------------------------------------------\u001b[0m",
      "\u001b[1;31mTypeError\u001b[0m                                 Traceback (most recent call last)",
      "\u001b[1;32m<ipython-input-10-564919934f55>\u001b[0m in \u001b[0;36m<module>\u001b[1;34m\u001b[0m\n\u001b[0;32m      1\u001b[0m \u001b[0mf\u001b[0m\u001b[1;33m=\u001b[0m\u001b[0minput\u001b[0m\u001b[1;33m(\u001b[0m\u001b[1;33m)\u001b[0m\u001b[1;33m\u001b[0m\u001b[1;33m\u001b[0m\u001b[0m\n\u001b[0;32m      2\u001b[0m \u001b[0ml\u001b[0m\u001b[1;33m=\u001b[0m\u001b[0mf\u001b[0m\u001b[1;33m.\u001b[0m\u001b[0msplit\u001b[0m\u001b[1;33m(\u001b[0m\u001b[1;33m)\u001b[0m\u001b[1;33m\u001b[0m\u001b[1;33m\u001b[0m\u001b[0m\n\u001b[1;32m----> 3\u001b[1;33m \u001b[0ml\u001b[0m\u001b[1;33m=\u001b[0m\u001b[0mfloat\u001b[0m\u001b[1;33m(\u001b[0m\u001b[0ml\u001b[0m\u001b[1;33m)\u001b[0m\u001b[1;33m\u001b[0m\u001b[1;33m\u001b[0m\u001b[0m\n\u001b[0m\u001b[0;32m      4\u001b[0m \u001b[0ml\u001b[0m\u001b[1;33m\u001b[0m\u001b[1;33m\u001b[0m\u001b[0m\n",
      "\u001b[1;31mTypeError\u001b[0m: float() argument must be a string or a number, not 'list'"
     ]
    }
   ],
   "source": [
    "f=input()\n",
    "l=f.split()\n",
    "l=float(l)\n",
    "l"
   ]
  },
  {
   "cell_type": "code",
   "execution_count": 32,
   "metadata": {},
   "outputs": [
    {
     "name": "stdout",
     "output_type": "stream",
     "text": [
      "6\n"
     ]
    },
    {
     "data": {
      "text/plain": [
       "904.7786842338603"
      ]
     },
     "execution_count": 32,
     "metadata": {},
     "output_type": "execute_result"
    }
   ],
   "source": [
    "from math import pi\n",
    "x=int(input())\n",
    "v=4/3*pi*(x**3)\n",
    "v"
   ]
  },
  {
   "cell_type": "code",
   "execution_count": 40,
   "metadata": {},
   "outputs": [
    {
     "name": "stdout",
     "output_type": "stream",
     "text": [
      "enter the no10\n",
      "7\n"
     ]
    }
   ],
   "source": [
    "x=int(input('enter the no'))\n",
    "if (x>17):\n",
    "    print(2*(x-17))\n",
    "else:\n",
    "    print(17-x)"
   ]
  },
  {
   "cell_type": "code",
   "execution_count": 48,
   "metadata": {},
   "outputs": [
    {
     "name": "stdout",
     "output_type": "stream",
     "text": [
      "17\n",
      "0\n"
     ]
    }
   ],
   "source": [
    "def diff(x):\n",
    "    if(x>=17):\n",
    "        return 2*(x-17)\n",
    "    else:\n",
    "        return 17-x\n",
    "    \n",
    "x=int(input())\n",
    "print(diff(x))\n",
    "    "
   ]
  },
  {
   "cell_type": "code",
   "execution_count": 56,
   "metadata": {},
   "outputs": [
    {
     "name": "stdout",
     "output_type": "stream",
     "text": [
      "500\n"
     ]
    }
   ],
   "source": [
    "c=abs(1000)\n",
    "print(c)"
   ]
  },
  {
   "cell_type": "code",
   "execution_count": 58,
   "metadata": {},
   "outputs": [
    {
     "name": "stdout",
     "output_type": "stream",
     "text": [
      "Isempty\n",
      "Isempty\n"
     ]
    }
   ],
   "source": [
    "def add(str):\n",
    "    if len(str) >= 2 and str[:2] == \"Is\":\n",
    "        return str\n",
    "    else:\n",
    "        return \"Is\" + str\n",
    "    \n",
    "x=input()\n",
    "print(add(x))"
   ]
  },
  {
   "cell_type": "code",
   "execution_count": 62,
   "metadata": {},
   "outputs": [
    {
     "name": "stdout",
     "output_type": "stream",
     "text": [
      "Isempty\n",
      "Isempty\n"
     ]
    }
   ],
   "source": [
    "str=input()\n",
    "if (len(str) >= 2 and str[:2] == \"Is\"):\n",
    "    print(str)\n",
    "else:\n",
    "    print(\"Is\" + str)\n",
    "        "
   ]
  },
  {
   "cell_type": "code",
   "execution_count": 71,
   "metadata": {},
   "outputs": [
    {
     "name": "stdout",
     "output_type": "stream",
     "text": [
      "kov\n",
      "3\n",
      "kovkovkov\n"
     ]
    }
   ],
   "source": [
    "def larger_string(str, n):\n",
    "    result = \"\"\n",
    "    for i in range(n):\n",
    "        result = result + str\n",
    "    return result\n",
    "x=input()\n",
    "y=int(input())\n",
    "print(larger_string(x, y))\n"
   ]
  },
  {
   "cell_type": "code",
   "execution_count": 83,
   "metadata": {},
   "outputs": [
    {
     "name": "stdout",
     "output_type": "stream",
     "text": [
      "1\n"
     ]
    }
   ],
   "source": [
    "l1=[2,3,5,4]\n",
    "count=0\n",
    "for i in l1:\n",
    "    if(i==4):\n",
    "        count+=1   \n",
    "print(count)        \n",
    "        \n",
    "        \n",
    "    "
   ]
  },
  {
   "cell_type": "code",
   "execution_count": 81,
   "metadata": {},
   "outputs": [
    {
     "name": "stdout",
     "output_type": "stream",
     "text": [
      "4\n"
     ]
    }
   ],
   "source": [
    "def count(l1):\n",
    "    num=0\n",
    "    for i in l1:\n",
    "        if(i==4):\n",
    "            num=num+1\n",
    "    return num\n",
    "        \n",
    "print(count([2,4,4,5,4,4]))        "
   ]
  },
  {
   "cell_type": "markdown",
   "metadata": {},
   "source": [
    "# Write a Python program to create a histogram from a given list of integers."
   ]
  },
  {
   "cell_type": "code",
   "execution_count": 99,
   "metadata": {},
   "outputs": [
    {
     "name": "stdout",
     "output_type": "stream",
     "text": [
      "*****\n",
      "****\n",
      "***\n",
      "**\n",
      "*\n",
      "*\n",
      "**\n",
      "***\n",
      "****\n",
      "*****\n"
     ]
    }
   ],
   "source": [
    "\n",
    "def hist(l2):\n",
    "    for i in l2:\n",
    "        output=''\n",
    "        while(i):\n",
    "            output+='*'\n",
    "            i=i-1\n",
    "        print(output)\n",
    "        \n",
    "hist([5,4,3,2,1])\n",
    "hist([1,2,3,4,5])\n",
    "        "
   ]
  },
  {
   "cell_type": "code",
   "execution_count": 8,
   "metadata": {},
   "outputs": [
    {
     "name": "stdout",
     "output_type": "stream",
     "text": [
      "12345678\n"
     ]
    }
   ],
   "source": [
    "a = [12,34,56,78]\n",
    "b=0\n",
    "for i in a:\n",
    "    b = int( \"%s%s\" % (b,i) )\n",
    "    \n",
    "\n",
    "print(b)    \n"
   ]
  },
  {
   "cell_type": "code",
   "execution_count": 111,
   "metadata": {},
   "outputs": [
    {
     "ename": "TypeError",
     "evalue": "str() missing 1 required positional argument: 'n'",
     "output_type": "error",
     "traceback": [
      "\u001b[1;31m---------------------------------------------------------------------------\u001b[0m",
      "\u001b[1;31mTypeError\u001b[0m                                 Traceback (most recent call last)",
      "\u001b[1;32m<ipython-input-111-74b588bedace>\u001b[0m in \u001b[0;36m<module>\u001b[1;34m\u001b[0m\n\u001b[0;32m      5\u001b[0m     \u001b[1;32mreturn\u001b[0m \u001b[0mr\u001b[0m\u001b[1;33m\u001b[0m\u001b[1;33m\u001b[0m\u001b[0m\n\u001b[0;32m      6\u001b[0m \u001b[1;33m\u001b[0m\u001b[0m\n\u001b[1;32m----> 7\u001b[1;33m \u001b[0mprint\u001b[0m\u001b[1;33m(\u001b[0m\u001b[0mconc\u001b[0m\u001b[1;33m(\u001b[0m\u001b[1;33m[\u001b[0m\u001b[1;36m2\u001b[0m\u001b[1;33m,\u001b[0m\u001b[1;36m3\u001b[0m\u001b[1;33m,\u001b[0m\u001b[1;36m4\u001b[0m\u001b[1;33m,\u001b[0m\u001b[1;36m5\u001b[0m\u001b[1;33m,\u001b[0m\u001b[1;36m6\u001b[0m\u001b[1;33m]\u001b[0m\u001b[1;33m)\u001b[0m\u001b[1;33m)\u001b[0m\u001b[1;33m\u001b[0m\u001b[1;33m\u001b[0m\u001b[0m\n\u001b[0m",
      "\u001b[1;32m<ipython-input-111-74b588bedace>\u001b[0m in \u001b[0;36mconc\u001b[1;34m(l1)\u001b[0m\n\u001b[0;32m      2\u001b[0m     \u001b[0mr\u001b[0m\u001b[1;33m=\u001b[0m\u001b[1;34m''\u001b[0m\u001b[1;33m\u001b[0m\u001b[1;33m\u001b[0m\u001b[0m\n\u001b[0;32m      3\u001b[0m     \u001b[1;32mfor\u001b[0m \u001b[0mi\u001b[0m \u001b[1;32min\u001b[0m \u001b[0ml1\u001b[0m\u001b[1;33m:\u001b[0m\u001b[1;33m\u001b[0m\u001b[1;33m\u001b[0m\u001b[0m\n\u001b[1;32m----> 4\u001b[1;33m         \u001b[0mr\u001b[0m\u001b[1;33m+=\u001b[0m \u001b[0mstr\u001b[0m\u001b[1;33m(\u001b[0m\u001b[0mi\u001b[0m\u001b[1;33m)\u001b[0m\u001b[1;33m\u001b[0m\u001b[1;33m\u001b[0m\u001b[0m\n\u001b[0m\u001b[0;32m      5\u001b[0m     \u001b[1;32mreturn\u001b[0m \u001b[0mr\u001b[0m\u001b[1;33m\u001b[0m\u001b[1;33m\u001b[0m\u001b[0m\n\u001b[0;32m      6\u001b[0m \u001b[1;33m\u001b[0m\u001b[0m\n",
      "\u001b[1;31mTypeError\u001b[0m: str() missing 1 required positional argument: 'n'"
     ]
    }
   ],
   "source": [
    "\n",
    "def conc(l1):\n",
    "    r=''\n",
    "    for i in l1:\n",
    "        r+= str(i)\n",
    "    return r\n",
    "\n",
    "print(conc([2,3,4,5,6]))"
   ]
  },
  {
   "cell_type": "code",
   "execution_count": 112,
   "metadata": {},
   "outputs": [
    {
     "ename": "TypeError",
     "evalue": "str() missing 1 required positional argument: 'n'",
     "output_type": "error",
     "traceback": [
      "\u001b[1;31m---------------------------------------------------------------------------\u001b[0m",
      "\u001b[1;31mTypeError\u001b[0m                                 Traceback (most recent call last)",
      "\u001b[1;32m<ipython-input-112-4aea5d6660d6>\u001b[0m in \u001b[0;36m<module>\u001b[1;34m\u001b[0m\n\u001b[0;32m      5\u001b[0m     \u001b[1;32mreturn\u001b[0m \u001b[0mresult\u001b[0m\u001b[1;33m\u001b[0m\u001b[1;33m\u001b[0m\u001b[0m\n\u001b[0;32m      6\u001b[0m \u001b[1;33m\u001b[0m\u001b[0m\n\u001b[1;32m----> 7\u001b[1;33m \u001b[0mprint\u001b[0m\u001b[1;33m(\u001b[0m\u001b[0mconcatenate_list_data\u001b[0m\u001b[1;33m(\u001b[0m\u001b[1;33m[\u001b[0m\u001b[1;36m1\u001b[0m\u001b[1;33m,\u001b[0m \u001b[1;36m5\u001b[0m\u001b[1;33m,\u001b[0m \u001b[1;36m12\u001b[0m\u001b[1;33m,\u001b[0m \u001b[1;36m2\u001b[0m\u001b[1;33m]\u001b[0m\u001b[1;33m)\u001b[0m\u001b[1;33m)\u001b[0m\u001b[1;33m\u001b[0m\u001b[1;33m\u001b[0m\u001b[0m\n\u001b[0m",
      "\u001b[1;32m<ipython-input-112-4aea5d6660d6>\u001b[0m in \u001b[0;36mconcatenate_list_data\u001b[1;34m(list)\u001b[0m\n\u001b[0;32m      2\u001b[0m     \u001b[0mresult\u001b[0m\u001b[1;33m=\u001b[0m \u001b[1;34m''\u001b[0m\u001b[1;33m\u001b[0m\u001b[1;33m\u001b[0m\u001b[0m\n\u001b[0;32m      3\u001b[0m     \u001b[1;32mfor\u001b[0m \u001b[0melement\u001b[0m \u001b[1;32min\u001b[0m \u001b[0mlist\u001b[0m\u001b[1;33m:\u001b[0m\u001b[1;33m\u001b[0m\u001b[1;33m\u001b[0m\u001b[0m\n\u001b[1;32m----> 4\u001b[1;33m         \u001b[0mresult\u001b[0m \u001b[1;33m+=\u001b[0m \u001b[0mstr\u001b[0m\u001b[1;33m(\u001b[0m\u001b[0melement\u001b[0m\u001b[1;33m)\u001b[0m\u001b[1;33m\u001b[0m\u001b[1;33m\u001b[0m\u001b[0m\n\u001b[0m\u001b[0;32m      5\u001b[0m     \u001b[1;32mreturn\u001b[0m \u001b[0mresult\u001b[0m\u001b[1;33m\u001b[0m\u001b[1;33m\u001b[0m\u001b[0m\n\u001b[0;32m      6\u001b[0m \u001b[1;33m\u001b[0m\u001b[0m\n",
      "\u001b[1;31mTypeError\u001b[0m: str() missing 1 required positional argument: 'n'"
     ]
    }
   ],
   "source": [
    "def concatenate_list_data(list):\n",
    "    result= ''\n",
    "    for element in list:\n",
    "        result += str(element)\n",
    "    return result\n",
    "\n",
    "print(concatenate_list_data([1, 5, 12, 2]))\n"
   ]
  },
  {
   "cell_type": "code",
   "execution_count": 113,
   "metadata": {},
   "outputs": [
    {
     "data": {
      "text/plain": [
       "'3.7.6 (default, Jan  8 2020, 20:23:39) [MSC v.1916 64 bit (AMD64)]'"
      ]
     },
     "execution_count": 113,
     "metadata": {},
     "output_type": "execute_result"
    }
   ],
   "source": [
    "sys.version"
   ]
  },
  {
   "cell_type": "code",
   "execution_count": 114,
   "metadata": {},
   "outputs": [
    {
     "ename": "TypeError",
     "evalue": "str() missing 1 required positional argument: 'n'",
     "output_type": "error",
     "traceback": [
      "\u001b[1;31m---------------------------------------------------------------------------\u001b[0m",
      "\u001b[1;31mTypeError\u001b[0m                                 Traceback (most recent call last)",
      "\u001b[1;32m<ipython-input-114-4aea5d6660d6>\u001b[0m in \u001b[0;36m<module>\u001b[1;34m\u001b[0m\n\u001b[0;32m      5\u001b[0m     \u001b[1;32mreturn\u001b[0m \u001b[0mresult\u001b[0m\u001b[1;33m\u001b[0m\u001b[1;33m\u001b[0m\u001b[0m\n\u001b[0;32m      6\u001b[0m \u001b[1;33m\u001b[0m\u001b[0m\n\u001b[1;32m----> 7\u001b[1;33m \u001b[0mprint\u001b[0m\u001b[1;33m(\u001b[0m\u001b[0mconcatenate_list_data\u001b[0m\u001b[1;33m(\u001b[0m\u001b[1;33m[\u001b[0m\u001b[1;36m1\u001b[0m\u001b[1;33m,\u001b[0m \u001b[1;36m5\u001b[0m\u001b[1;33m,\u001b[0m \u001b[1;36m12\u001b[0m\u001b[1;33m,\u001b[0m \u001b[1;36m2\u001b[0m\u001b[1;33m]\u001b[0m\u001b[1;33m)\u001b[0m\u001b[1;33m)\u001b[0m\u001b[1;33m\u001b[0m\u001b[1;33m\u001b[0m\u001b[0m\n\u001b[0m",
      "\u001b[1;32m<ipython-input-114-4aea5d6660d6>\u001b[0m in \u001b[0;36mconcatenate_list_data\u001b[1;34m(list)\u001b[0m\n\u001b[0;32m      2\u001b[0m     \u001b[0mresult\u001b[0m\u001b[1;33m=\u001b[0m \u001b[1;34m''\u001b[0m\u001b[1;33m\u001b[0m\u001b[1;33m\u001b[0m\u001b[0m\n\u001b[0;32m      3\u001b[0m     \u001b[1;32mfor\u001b[0m \u001b[0melement\u001b[0m \u001b[1;32min\u001b[0m \u001b[0mlist\u001b[0m\u001b[1;33m:\u001b[0m\u001b[1;33m\u001b[0m\u001b[1;33m\u001b[0m\u001b[0m\n\u001b[1;32m----> 4\u001b[1;33m         \u001b[0mresult\u001b[0m \u001b[1;33m+=\u001b[0m \u001b[0mstr\u001b[0m\u001b[1;33m(\u001b[0m\u001b[0melement\u001b[0m\u001b[1;33m)\u001b[0m\u001b[1;33m\u001b[0m\u001b[1;33m\u001b[0m\u001b[0m\n\u001b[0m\u001b[0;32m      5\u001b[0m     \u001b[1;32mreturn\u001b[0m \u001b[0mresult\u001b[0m\u001b[1;33m\u001b[0m\u001b[1;33m\u001b[0m\u001b[0m\n\u001b[0;32m      6\u001b[0m \u001b[1;33m\u001b[0m\u001b[0m\n",
      "\u001b[1;31mTypeError\u001b[0m: str() missing 1 required positional argument: 'n'"
     ]
    }
   ],
   "source": [
    "def concatenate_list_data(list):\n",
    "    result= ''\n",
    "    for element in list:\n",
    "        result += str(element)\n",
    "    return result\n",
    "\n",
    "print(concatenate_list_data([1, 5, 12, 2]))\n"
   ]
  },
  {
   "cell_type": "code",
   "execution_count": 85,
   "metadata": {},
   "outputs": [
    {
     "name": "stdout",
     "output_type": "stream",
     "text": [
      "[386, 462, 418, 344, 236, 566, 978, 328, 162, 758, 918]\n"
     ]
    }
   ],
   "source": [
    "numbers = [    \n",
    "    386, 462, 47, 418, 907, 344, 236, 375, 823, 566, 597, 978, 328, 615, 953, 345, \n",
    "    399, 162, 758, 219, 918, 237, 412, 566, 826, 248, 866, 950, 626, 949, 687, 217, \n",
    "    815, 67, 104, 58, 512, 24, 892, 894, 767, 553, 81, 379, 843, 831, 445, 742, 717, \n",
    "    958,743, 527\n",
    "    ]\n",
    "l1=[]\n",
    "for i in numbers:\n",
    "    if (i%2==0):\n",
    "        l1.append(i)\n",
    "    elif(i==237):\n",
    "        break;\n",
    "print(l1)        \n",
    "    \n",
    "        "
   ]
  },
  {
   "cell_type": "code",
   "execution_count": 143,
   "metadata": {},
   "outputs": [
    {
     "name": "stdout",
     "output_type": "stream",
     "text": [
      "53\n"
     ]
    }
   ],
   "source": [
    "l1=[13,15,53,23,45]\n",
    "b=0\n",
    "for i in l1:\n",
    "    if(i>b):\n",
    "        b=i\n",
    "\n",
    "print(b)        "
   ]
  },
  {
   "cell_type": "code",
   "execution_count": 154,
   "metadata": {},
   "outputs": [
    {
     "name": "stdout",
     "output_type": "stream",
     "text": [
      "25\n"
     ]
    }
   ],
   "source": [
    "def add(a,b):\n",
    "    c=a+b\n",
    "    if(c>=15 and c<=20):\n",
    "        return 20\n",
    "    else:\n",
    "        return c\n",
    "    \n",
    "print(add(10,15))    "
   ]
  },
  {
   "cell_type": "code",
   "execution_count": 13,
   "metadata": {},
   "outputs": [
    {
     "name": "stdout",
     "output_type": "stream",
     "text": [
      "False\n",
      "True\n",
      "True\n"
     ]
    }
   ],
   "source": [
    "def eqa(a,b):\n",
    "    c=a+b\n",
    "    d=a-b\n",
    "    if a==b or c==5 or d==5:\n",
    "        return True\n",
    "    else:\n",
    "        return False\n",
    "    \n",
    "print(eqa(10,2))  \n",
    "print((eqa(10,5)))\n",
    "print((eqa(5,5)))"
   ]
  },
  {
   "cell_type": "code",
   "execution_count": 22,
   "metadata": {},
   "outputs": [
    {
     "name": "stdout",
     "output_type": "stream",
     "text": [
      "30\n",
      "inter integers only\n"
     ]
    }
   ],
   "source": [
    "def add(a,b):\n",
    "    if (isinstance(a,int) and isinstance(b,int)):\n",
    "        return a+b\n",
    "    else:\n",
    "        return \"inter integers only\"\n",
    "    \n",
    "print(add(10,20))   \n",
    "print(add(10.5,20.5))"
   ]
  },
  {
   "cell_type": "code",
   "execution_count": 23,
   "metadata": {},
   "outputs": [
    {
     "name": "stdout",
     "output_type": "stream",
     "text": [
      "(5+6)^2)=121\n"
     ]
    }
   ],
   "source": [
    "x,y=5,6\n",
    "result=x*x+2*x*y+y*y\n",
    "print(\"({}+{})^2)={}\".format(x,y,result))"
   ]
  },
  {
   "cell_type": "code",
   "execution_count": 24,
   "metadata": {},
   "outputs": [
    {
     "name": "stdout",
     "output_type": "stream",
     "text": [
      "value of x is 5 and value of y is 6\n"
     ]
    }
   ],
   "source": [
    "x=5\n",
    "y=6\n",
    "print(\"value of x is {} and value of y is {}\".format(x,y))"
   ]
  },
  {
   "cell_type": "code",
   "execution_count": 26,
   "metadata": {},
   "outputs": [
    {
     "name": "stdout",
     "output_type": "stream",
     "text": [
      "True\n"
     ]
    }
   ],
   "source": [
    "import os.path\n",
    "open('abc.txt','w')\n",
    "print(os.path.isfile('abc.txt'))"
   ]
  },
  {
   "cell_type": "code",
   "execution_count": 27,
   "metadata": {},
   "outputs": [
    {
     "data": {
      "text/plain": [
       "'nt'"
      ]
     },
     "execution_count": 27,
     "metadata": {},
     "output_type": "execute_result"
    }
   ],
   "source": [
    "os.name"
   ]
  },
  {
   "cell_type": "code",
   "execution_count": 30,
   "metadata": {},
   "outputs": [
    {
     "name": "stdout",
     "output_type": "stream",
     "text": [
      "Windows\n"
     ]
    }
   ],
   "source": [
    "import platform\n",
    "print(platform.system())"
   ]
  },
  {
   "cell_type": "code",
   "execution_count": 31,
   "metadata": {},
   "outputs": [
    {
     "data": {
      "text/plain": [
       "<module 'ntpath' from 'C:\\\\Users\\\\Kovid Pandey\\\\anaconda3\\\\lib\\\\ntpath.py'>"
      ]
     },
     "execution_count": 31,
     "metadata": {},
     "output_type": "execute_result"
    }
   ],
   "source": [
    "os.path"
   ]
  },
  {
   "cell_type": "code",
   "execution_count": 34,
   "metadata": {},
   "outputs": [
    {
     "name": "stdout",
     "output_type": "stream",
     "text": [
      "**********\n",
      "\n"
     ]
    }
   ],
   "source": [
    "for i in range(0,10):\n",
    "        print(\"*\",end=\"\")\n",
    "print(\"\\n\")    "
   ]
  },
  {
   "cell_type": "code",
   "execution_count": 36,
   "metadata": {},
   "outputs": [
    {
     "name": "stdout",
     "output_type": "stream",
     "text": [
      "Input your height: \n",
      "Feet: 5\n",
      "Inches: 3\n"
     ]
    },
    {
     "data": {
      "text/plain": [
       "160.0"
      ]
     },
     "execution_count": 36,
     "metadata": {},
     "output_type": "execute_result"
    }
   ],
   "source": [
    "print(\"Input your height: \")\n",
    "h_ft = int(input(\"Feet: \"))\n",
    "h_inch = int(input(\"Inches: \"))\n",
    "\n",
    "h_inch += h_ft * 12\n",
    "h_cm = round(h_inch * 2.54, 1)\n",
    "h_cm"
   ]
  },
  {
   "cell_type": "code",
   "execution_count": 41,
   "metadata": {},
   "outputs": [
    {
     "name": "stdout",
     "output_type": "stream",
     "text": [
      "length of hyp is 5\n"
     ]
    }
   ],
   "source": [
    "import math \n",
    "def hyp(a,b):\n",
    "    h=math.sqrt(a**2+b**2)\n",
    "    return \"length of hyp is %d\"%h \n",
    "\n",
    "print(hyp(4,3))"
   ]
  },
  {
   "cell_type": "code",
   "execution_count": 46,
   "metadata": {},
   "outputs": [
    {
     "name": "stdout",
     "output_type": "stream",
     "text": [
      "9\n"
     ]
    }
   ],
   "source": [
    "t=123456789\n",
    "count=0\n",
    "while(t):\n",
    "    x=t//10\n",
    "    count=count+1\n",
    "    t=x\n",
    "    \n",
    "print(count)    \n",
    "     "
   ]
  },
  {
   "cell_type": "code",
   "execution_count": 48,
   "metadata": {},
   "outputs": [
    {
     "name": "stdout",
     "output_type": "stream",
     "text": [
      "20\n"
     ]
    }
   ],
   "source": [
    "a=884\n",
    "sum=0\n",
    "while(a):\n",
    "    b=a%10\n",
    "    sum=sum+b\n",
    "    a=a//10\n",
    "    \n",
    "print(sum)    "
   ]
  },
  {
   "cell_type": "code",
   "execution_count": 53,
   "metadata": {},
   "outputs": [
    {
     "name": "stdout",
     "output_type": "stream",
     "text": [
      "Enter Integer12345\n",
      "15\n"
     ]
    }
   ],
   "source": [
    "s=input('Enter Integer')\n",
    "t=0\n",
    "for item in s:\n",
    "    t=t+int(item)\n",
    "print(t)"
   ]
  },
  {
   "cell_type": "code",
   "execution_count": 58,
   "metadata": {
    "scrolled": false
   },
   "outputs": [
    {
     "name": "stdout",
     "output_type": "stream",
     "text": [
      "Input the word be hashed: kovid\n",
      "\n",
      "The coded word is: K2105\n",
      "\n"
     ]
    }
   ],
   "source": [
    "soundex=[0,1,2,3,0,1,2,0,0,2,2,4,5,5,0,1,2,6,2,3,0,1,0,2,0,2]\n",
    " \n",
    "word=input(\"Input the word be hashed: \")\n",
    " \n",
    "word=word.upper()\n",
    " \n",
    "coded=word[0]\n",
    " \n",
    "for a in word[1:len(word)]:\n",
    "    i=81-ord(a)\n",
    "    coded=coded+str(soundex[i])\n",
    "print() \n",
    "print(\"The coded word is: \"+coded)\n",
    "print()"
   ]
  },
  {
   "cell_type": "markdown",
   "metadata": {},
   "source": [
    "# convert list into string"
   ]
  },
  {
   "cell_type": "code",
   "execution_count": 68,
   "metadata": {},
   "outputs": [
    {
     "data": {
      "text/plain": [
       "'red,green,blue'"
      ]
     },
     "execution_count": 68,
     "metadata": {},
     "output_type": "execute_result"
    }
   ],
   "source": [
    "l1=['red','green','blue']\n",
    "c=','.join(l1)\n",
    "c"
   ]
  },
  {
   "cell_type": "markdown",
   "metadata": {},
   "source": [
    "# convert string into list"
   ]
  },
  {
   "cell_type": "code",
   "execution_count": 72,
   "metadata": {},
   "outputs": [
    {
     "data": {
      "text/plain": [
       "['red', 'green', 'blue']"
      ]
     },
     "execution_count": 72,
     "metadata": {},
     "output_type": "execute_result"
    }
   ],
   "source": [
    "c='red,green,blue'\n",
    "list=c.split(',')\n",
    "list"
   ]
  },
  {
   "cell_type": "markdown",
   "metadata": {},
   "source": [
    "## to count no. of occurence of a character\n"
   ]
  },
  {
   "cell_type": "code",
   "execution_count": 74,
   "metadata": {},
   "outputs": [
    {
     "name": "stdout",
     "output_type": "stream",
     "text": [
      "1\n"
     ]
    }
   ],
   "source": [
    "s = \"The quick brown fox jumps over the lazy dog.\"\n",
    "print(s.count(\"q\"))\n"
   ]
  },
  {
   "cell_type": "code",
   "execution_count": 114,
   "metadata": {},
   "outputs": [
    {
     "data": {
      "text/plain": [
       "12"
      ]
     },
     "execution_count": 114,
     "metadata": {},
     "output_type": "execute_result"
    }
   ],
   "source": []
  },
  {
   "cell_type": "code",
   "execution_count": 118,
   "metadata": {},
   "outputs": [
    {
     "data": {
      "text/plain": [
       "['k', 'o', 'v', 'i', 'd', ' ', 'p', 'a', 'n', 'e', 'y']"
      ]
     },
     "execution_count": 118,
     "metadata": {},
     "output_type": "execute_result"
    }
   ],
   "source": [
    "l3=[]\n",
    "def printDistinct(arr, n): \n",
    "  \n",
    "    # Pick all elements one by one \n",
    "    for i in range(0, n): \n",
    "  \n",
    "        # Check if the picked element  \n",
    "        # is already printed \n",
    "        d = 0\n",
    "        for j in range(0, i): \n",
    "            if (arr[i] == arr[j]): \n",
    "                d = 1\n",
    "                break\n",
    "  \n",
    "        # If not printed earlier, \n",
    "        # then print it \n",
    "        if (d == 0):\n",
    "            l3.append(arr[i])\n",
    "            \n",
    "printDistinct(l,n)\n",
    "l3"
   ]
  },
  {
   "cell_type": "code",
   "execution_count": 127,
   "metadata": {},
   "outputs": [
    {
     "data": {
      "text/plain": [
       "75"
      ]
     },
     "execution_count": 127,
     "metadata": {},
     "output_type": "execute_result"
    }
   ],
   "source": [
    "ord('K')"
   ]
  },
  {
   "cell_type": "markdown",
   "metadata": {},
   "source": [
    "## to calculate unique elements"
   ]
  },
  {
   "cell_type": "code",
   "execution_count": 144,
   "metadata": {},
   "outputs": [
    {
     "data": {
      "text/plain": [
       "[23, 2, 1, 5, 7, 8, 21]"
      ]
     },
     "execution_count": 144,
     "metadata": {},
     "output_type": "execute_result"
    }
   ],
   "source": [
    "l1=[23,2,1,5,7,8,5,21,5,5,5,5,5,5,5,5,]\n",
    "l2=[]\n",
    "for i in l1:\n",
    "    d=0\n",
    "    for j in l2:\n",
    "        if(i==j):\n",
    "            d=1\n",
    "            break\n",
    "    if(d==0):\n",
    "        l2.append(i)\n",
    "        \n",
    "l2        "
   ]
  },
  {
   "cell_type": "code",
   "execution_count": 145,
   "metadata": {
    "scrolled": true
   },
   "outputs": [
    {
     "data": {
      "text/plain": [
       "'Tue Nov 10 22:46:29 2020'"
      ]
     },
     "execution_count": 145,
     "metadata": {},
     "output_type": "execute_result"
    }
   ],
   "source": [
    "import time\n",
    "time.ctime()\n",
    "    \n",
    "   "
   ]
  },
  {
   "cell_type": "code",
   "execution_count": 146,
   "metadata": {
    "collapsed": true
   },
   "outputs": [
    {
     "data": {
      "text/plain": [
       "environ{'ALLUSERSPROFILE': 'C:\\\\ProgramData',\n",
       "        'APPDATA': 'C:\\\\Users\\\\Kovid Pandey\\\\AppData\\\\Roaming',\n",
       "        'CLASSPATH': '.;C:\\\\Program Files (x86)\\\\QuickTime\\\\QTSystem\\\\QTJava.zip',\n",
       "        'COMMONPROGRAMFILES': 'C:\\\\Program Files\\\\Common Files',\n",
       "        'COMMONPROGRAMFILES(X86)': 'C:\\\\Program Files (x86)\\\\Common Files',\n",
       "        'COMMONPROGRAMW6432': 'C:\\\\Program Files\\\\Common Files',\n",
       "        'COMPUTERNAME': 'KOVIDP',\n",
       "        'COMSPEC': 'C:\\\\WINDOWS\\\\system32\\\\cmd.exe',\n",
       "        'CONDA_DEFAULT_ENV': 'base',\n",
       "        'CONDA_EXE': 'C:\\\\Users\\\\Kovid Pandey\\\\anaconda3\\\\Scripts\\\\conda.exe',\n",
       "        'CONDA_PREFIX': 'C:\\\\Users\\\\Kovid Pandey\\\\anaconda3',\n",
       "        'CONDA_PROMPT_MODIFIER': '(base) ',\n",
       "        'CONDA_PYTHON_EXE': 'C:\\\\Users\\\\Kovid Pandey\\\\anaconda3\\\\python.exe',\n",
       "        'CONDA_SHLVL': '1',\n",
       "        'DRIVERDATA': 'C:\\\\Windows\\\\System32\\\\Drivers\\\\DriverData',\n",
       "        'FPS_BROWSER_APP_PROFILE_STRING': 'Internet Explorer',\n",
       "        'FPS_BROWSER_USER_PROFILE_STRING': 'Default',\n",
       "        'HOMEDRIVE': 'C:',\n",
       "        'HOMEPATH': '\\\\Users\\\\Kovid Pandey',\n",
       "        'JAVA': 'C:\\\\Program Files\\\\Java\\\\jdk-11.0.5\\\\bin',\n",
       "        'LOCALAPPDATA': 'C:\\\\Users\\\\Kovid Pandey\\\\AppData\\\\Local',\n",
       "        'LOGONSERVER': '\\\\\\\\KOVIDP',\n",
       "        'NUMBER_OF_PROCESSORS': '8',\n",
       "        'ONEDRIVE': 'C:\\\\Users\\\\Kovid Pandey\\\\OneDrive',\n",
       "        'ONEDRIVECONSUMER': 'C:\\\\Users\\\\Kovid Pandey\\\\OneDrive',\n",
       "        'OS': 'Windows_NT',\n",
       "        'PATH': 'C:\\\\Users\\\\Kovid Pandey\\\\anaconda3;C:\\\\Users\\\\Kovid Pandey\\\\anaconda3\\\\Library\\\\mingw-w64\\\\bin;C:\\\\Users\\\\Kovid Pandey\\\\anaconda3\\\\Library\\\\usr\\\\bin;C:\\\\Users\\\\Kovid Pandey\\\\anaconda3\\\\Library\\\\bin;C:\\\\Users\\\\Kovid Pandey\\\\anaconda3\\\\Scripts;C:\\\\Users\\\\Kovid Pandey\\\\anaconda3\\\\bin;C:\\\\Users\\\\Kovid Pandey\\\\anaconda3\\\\condabin;C:\\\\WINDOWS\\\\system32;C:\\\\WINDOWS;C:\\\\WINDOWS\\\\System32\\\\Wbem;C:\\\\WINDOWS\\\\System32\\\\WindowsPowerShell\\\\v1.0;C:\\\\WINDOWS\\\\System32\\\\OpenSSH;C:\\\\Program Files (x86)\\\\QuickTime\\\\QTSystem;C:\\\\Program Files\\\\Java\\\\jdk-11.0.5;C:\\\\Program Files\\\\Java\\\\jdk-11.0.5\\\\bin;.;C:\\\\TDM-GCC-64\\\\bin;C:\\\\Users\\\\Kovid Pandey\\\\AppData\\\\Local\\\\Programs\\\\Python\\\\Python37\\\\Scripts;C:\\\\Users\\\\Kovid Pandey\\\\AppData\\\\Local\\\\Programs\\\\Python\\\\Python37;C:\\\\Users\\\\Kovid Pandey\\\\AppData\\\\Local\\\\Microsoft\\\\WindowsApps;C:\\\\Program Files\\\\Java\\\\jdk-11.0.5\\\\bin;C:\\\\Users\\\\Kovid Pandey\\\\AppData\\\\Local\\\\GitHubDesktop\\\\bin;C:\\\\Users\\\\Kovid Pandey\\\\AppData\\\\Local\\\\Microsoft\\\\WindowsApps;.',\n",
       "        'PATHEXT': '.COM;.EXE;.BAT;.CMD;.VBS;.VBE;.JS;.JSE;.WSF;.WSH;.MSC',\n",
       "        'PROCESSOR_ARCHITECTURE': 'AMD64',\n",
       "        'PROCESSOR_IDENTIFIER': 'Intel64 Family 6 Model 142 Stepping 10, GenuineIntel',\n",
       "        'PROCESSOR_LEVEL': '6',\n",
       "        'PROCESSOR_REVISION': '8e0a',\n",
       "        'PROGRAMDATA': 'C:\\\\ProgramData',\n",
       "        'PROGRAMFILES': 'C:\\\\Program Files',\n",
       "        'PROGRAMFILES(X86)': 'C:\\\\Program Files (x86)',\n",
       "        'PROGRAMW6432': 'C:\\\\Program Files',\n",
       "        'PROMPT': '(base) $P$G',\n",
       "        'PSMODULEPATH': 'C:\\\\Program Files\\\\WindowsPowerShell\\\\Modules;C:\\\\WINDOWS\\\\system32\\\\WindowsPowerShell\\\\v1.0\\\\Modules',\n",
       "        'PT7HOME': 'C:\\\\Program Files\\\\Cisco Packet Tracer 7.0',\n",
       "        'PUBLIC': 'C:\\\\Users\\\\Public',\n",
       "        'QTJAVA': 'C:\\\\Program Files (x86)\\\\QuickTime\\\\QTSystem\\\\QTJava.zip',\n",
       "        'SESSIONNAME': 'Console',\n",
       "        'SYSTEMDRIVE': 'C:',\n",
       "        'SYSTEMROOT': 'C:\\\\WINDOWS',\n",
       "        'TEMP': 'C:\\\\Users\\\\KOVIDP~1\\\\AppData\\\\Local\\\\Temp',\n",
       "        'TMP': 'C:\\\\Users\\\\KOVIDP~1\\\\AppData\\\\Local\\\\Temp',\n",
       "        'USERDOMAIN': 'KOVIDP',\n",
       "        'USERDOMAIN_ROAMINGPROFILE': 'KOVIDP',\n",
       "        'USERNAME': 'Kovid Pandey',\n",
       "        'USERPROFILE': 'C:\\\\Users\\\\Kovid Pandey',\n",
       "        'VBOX_MSI_INSTALL_PATH': 'C:\\\\Program Files\\\\Oracle\\\\VirtualBox\\\\',\n",
       "        'WINDIR': 'C:\\\\WINDOWS',\n",
       "        'KERNEL_LAUNCH_TIMEOUT': '40',\n",
       "        'JPY_INTERRUPT_EVENT': '2152',\n",
       "        'IPY_INTERRUPT_EVENT': '2152',\n",
       "        'JPY_PARENT_PID': '2148',\n",
       "        'TERM': 'xterm-color',\n",
       "        'CLICOLOR': '1',\n",
       "        'PAGER': 'cat',\n",
       "        'GIT_PAGER': 'cat',\n",
       "        'MPLBACKEND': 'module://ipykernel.pylab.backend_inline'}"
      ]
     },
     "execution_count": 146,
     "metadata": {},
     "output_type": "execute_result"
    }
   ],
   "source": [
    "os.environ"
   ]
  },
  {
   "cell_type": "code",
   "execution_count": 8,
   "metadata": {},
   "outputs": [
    {
     "data": {
      "text/plain": [
       "[4, 3, 5, 6, 7]"
      ]
     },
     "execution_count": 8,
     "metadata": {},
     "output_type": "execute_result"
    }
   ],
   "source": [
    "l1=[4,3,4,5,5,6,7,7,7]\n",
    "l2=[]\n",
    "for i in l1:\n",
    "    d=0\n",
    "    for j in l2:\n",
    "        if(i==j):\n",
    "            d=1\n",
    "            break\n",
    "    if(d==0):\n",
    "        l2.append(i)\n",
    "        \n",
    "l2 "
   ]
  },
  {
   "cell_type": "code",
   "execution_count": 6,
   "metadata": {},
   "outputs": [
    {
     "name": "stdout",
     "output_type": "stream",
     "text": [
      "4 = 2\n",
      "3 = 1\n",
      "5 = 2\n",
      "6 = 1\n",
      "7 = 3\n"
     ]
    }
   ],
   "source": [
    "count=0\n",
    "for j in l2: \n",
    "    for k in l1:\n",
    "        if (j==k):\n",
    "            count+=1\n",
    "            \n",
    "    print(j,\"=\",count)\n",
    "    count=0\n",
    "    \n",
    "    "
   ]
  },
  {
   "cell_type": "code",
   "execution_count": 14,
   "metadata": {},
   "outputs": [
    {
     "name": "stdout",
     "output_type": "stream",
     "text": [
      "[4, 3, 5, 6, 7]\n"
     ]
    }
   ],
   "source": [
    "l3=[]\n",
    "for m in l1:\n",
    "    if m not in l3:\n",
    "        l3.append(m)\n",
    "       \n",
    "        \n",
    "print(l3)        "
   ]
  },
  {
   "cell_type": "code",
   "execution_count": 22,
   "metadata": {},
   "outputs": [
    {
     "name": "stdout",
     "output_type": "stream",
     "text": [
      "['c', 'b', 'e', 'a']\n"
     ]
    }
   ],
   "source": [
    "l1=['a','b','c','a','b','e']\n",
    "unique_numbers = list(set(l1))\n",
    "print(unique_numbers)\n",
    "     "
   ]
  },
  {
   "cell_type": "code",
   "execution_count": 23,
   "metadata": {},
   "outputs": [],
   "source": [
    "k=list(set(l1))"
   ]
  },
  {
   "cell_type": "code",
   "execution_count": 24,
   "metadata": {},
   "outputs": [
    {
     "data": {
      "text/plain": [
       "'c'"
      ]
     },
     "execution_count": 24,
     "metadata": {},
     "output_type": "execute_result"
    }
   ],
   "source": [
    "k[0]"
   ]
  },
  {
   "cell_type": "code",
   "execution_count": null,
   "metadata": {},
   "outputs": [],
   "source": [
    "1+2"
   ]
  },
  {
   "cell_type": "code",
   "execution_count": 1,
   "metadata": {},
   "outputs": [
    {
     "data": {
      "text/plain": [
       "3"
      ]
     },
     "execution_count": 1,
     "metadata": {},
     "output_type": "execute_result"
    }
   ],
   "source": [
    "1+2"
   ]
  },
  {
   "cell_type": "code",
   "execution_count": 6,
   "metadata": {},
   "outputs": [
    {
     "name": "stdout",
     "output_type": "stream",
     "text": [
      "100\n"
     ]
    }
   ],
   "source": [
    "def cube(x):\n",
    "    x=x-1\n",
    "    y=0\n",
    "    while(x):\n",
    "        y=y+(x**3)\n",
    "        x=x-1\n",
    "        \n",
    "    return y\n",
    "print(cube(5))"
   ]
  },
  {
   "cell_type": "code",
   "execution_count": 27,
   "metadata": {},
   "outputs": [
    {
     "name": "stdout",
     "output_type": "stream",
     "text": [
      "True\n",
      "False\n"
     ]
    }
   ],
   "source": [
    "def odd(l1):\n",
    "    for i in l1:\n",
    "        d=0\n",
    "        for j in l1:\n",
    "            x=i+j\n",
    "            if(x%2!=0):\n",
    "                d=1\n",
    "                break\n",
    "    if(d==1):\n",
    "        return True\n",
    "    else:\n",
    "        return False\n",
    "    \n",
    "print(odd([1,6,4,7,8]))    \n",
    "print(odd([2,4,6,8]))"
   ]
  },
  {
   "cell_type": "code",
   "execution_count": 26,
   "metadata": {},
   "outputs": [
    {
     "name": "stdout",
     "output_type": "stream",
     "text": [
      "True\n",
      "None\n"
     ]
    }
   ],
   "source": [
    "def pair(l1):\n",
    "    for i in l1:\n",
    "        for j in l1:\n",
    "            x=i+j\n",
    "            if(x%2!=0):\n",
    "                return True\n",
    "                break\n",
    "            \n",
    "print(pair([1,6,4,7,8]))\n",
    "print(pair([2,4,6,8]))"
   ]
  },
  {
   "cell_type": "code",
   "execution_count": 24,
   "metadata": {},
   "outputs": [
    {
     "name": "stdout",
     "output_type": "stream",
     "text": [
      "True\n"
     ]
    }
   ],
   "source": [
    "l = [1, 6, 4, 7, 8]\n",
    "#l = [2, 4, 6, 8]\n",
    "x = 0\n",
    "while True:\n",
    "    result = ''.join([str(True) for i in range(x+1, len(l)) if l[i]*l[x] % 2 != 0])\n",
    "    x = x + 1\n",
    "    print(result)\n",
    "    if x == len(l)-1 or len(result) > 0:\n",
    "        break"
   ]
  },
  {
   "cell_type": "code",
   "execution_count": 28,
   "metadata": {},
   "outputs": [
    {
     "ename": "SyntaxError",
     "evalue": "invalid syntax (<ipython-input-28-0c6366f7721e>, line 4)",
     "output_type": "error",
     "traceback": [
      "\u001b[1;36m  File \u001b[1;32m\"<ipython-input-28-0c6366f7721e>\"\u001b[1;36m, line \u001b[1;32m4\u001b[0m\n\u001b[1;33m    if()\u001b[0m\n\u001b[1;37m        ^\u001b[0m\n\u001b[1;31mSyntaxError\u001b[0m\u001b[1;31m:\u001b[0m invalid syntax\n"
     ]
    }
   ],
   "source": []
  },
  {
   "cell_type": "code",
   "execution_count": 2,
   "metadata": {},
   "outputs": [
    {
     "name": "stdout",
     "output_type": "stream",
     "text": [
      "30\n",
      "60\n",
      "90\n",
      "40\n",
      "80\n",
      "50\n",
      "20\n",
      "70\n",
      "10\n"
     ]
    }
   ],
   "source": [
    "def remove(l1):\n",
    "    l=len(l1)\n",
    "    idx=0\n",
    "    pos=3-1\n",
    "    while(l):\n",
    "        idx=(pos+idx)%l\n",
    "        print(l1.pop(idx))\n",
    "        l-=1\n",
    "        \n",
    "remove([10,20,30,40,50,60,70,80,90])        \n",
    "        "
   ]
  },
  {
   "cell_type": "code",
   "execution_count": 52,
   "metadata": {},
   "outputs": [
    {
     "name": "stdout",
     "output_type": "stream",
     "text": [
      "-6 4 2\n",
      "-6 4 2\n",
      "-6 2 4\n",
      "-6 2 4\n",
      "4 -6 2\n",
      "4 -6 2\n",
      "4 2 -6\n",
      "4 2 -6\n",
      "2 -6 4\n",
      "2 4 -6\n",
      "2 -6 4\n",
      "2 4 -6\n",
      "None\n"
     ]
    }
   ],
   "source": [
    "def tri(l2):\n",
    "    for i in l2:\n",
    "        \n",
    "        for j in l2:\n",
    "            if abs(i)!=abs(j):\n",
    "                for k in l2:\n",
    "                    if abs(i)!=abs(k) and abs(j)!=abs(k):\n",
    "                        z=i+j+k\n",
    "                        if z==0:\n",
    "                            print(i,j,k)\n",
    "            \n",
    "                \n",
    "print(tri([1, -6, 4, 2, -1, 2, 0, -2, 0 ]))                "
   ]
  },
  {
   "cell_type": "code",
   "execution_count": 44,
   "metadata": {},
   "outputs": [
    {
     "name": "stdout",
     "output_type": "stream",
     "text": [
      "(0, 1, -1)\n",
      "(0, 2, -2)\n",
      "(2, 4, -6)\n"
     ]
    }
   ],
   "source": [
    "import itertools\n",
    "\n",
    "ls = [1, -6, 4, 2, -1, 2, 0, -2, 0 ]\n",
    "ls = list(set(ls))\n",
    "\n",
    "def func(t):\n",
    "    combs = list(itertools.combinations(t,3))\n",
    "    for i in combs:\n",
    "        if sum(i) == 0:\n",
    "            print(i)\n",
    "\n",
    "func(ls)"
   ]
  },
  {
   "cell_type": "code",
   "execution_count": 47,
   "metadata": {},
   "outputs": [
    {
     "name": "stdout",
     "output_type": "stream",
     "text": [
      "numbers are -6+4+2=0\n",
      "numbers are -6+2+4=0\n",
      "numbers are -6+2+4=0\n",
      "numbers are 4+-6+2=0\n",
      "numbers are 4+2+-6=0\n",
      "numbers are 4+2+-6=0\n",
      "numbers are 2+-6+4=0\n",
      "numbers are 2+4+-6=0\n",
      "numbers are 2+-6+4=0\n",
      "numbers are 2+4+-6=0\n"
     ]
    }
   ],
   "source": [
    "A = [1, -6, 4, 2, -1, 2, 0, -2, 0]\n",
    "\n",
    "for x in A:\n",
    "    for y in A:\n",
    "        for z in A:\n",
    "            if x + y + z == 0 and abs(x) != abs(y) and abs(x) != abs(z) and abs(y) != abs(z):\n",
    "                print(f\"numbers are {x}+{y}+{z}=0\")\n",
    "                break"
   ]
  },
  {
   "cell_type": "code",
   "execution_count": 3,
   "metadata": {},
   "outputs": [
    {
     "name": "stdout",
     "output_type": "stream",
     "text": [
      "888\n"
     ]
    }
   ],
   "source": [
    "import random\n",
    "\n",
    "numbers = range(10)\n",
    "num = random.choice(numbers)\n",
    "combo = str(num)*3\n",
    "print(combo)"
   ]
  },
  {
   "cell_type": "code",
   "execution_count": 3,
   "metadata": {},
   "outputs": [],
   "source": [
    "x = '''United States Declaration of Independence\n",
    "From Wikipedia, the free encyclopedia\n",
    "The United States Declaration of Independence is the statement\n",
    "adopted by the Second Continental Congress meeting at the Pennsylvania State\n",
    "House (Independence Hall) in Philadelphia on July 4, 1776, which announced\n",
    "that the thirteen American colonies, then at war with the Kingdom of Great\n",
    "Britain, regarded themselves as thirteen independent sovereign states, no longer\n",
    "under British rule. These states would found a new nation – the United States of\n",
    "America. John Adams was a leader in pushing for independence, which was passed\n",
    "on July 2 with no opposing vote cast. A committee of five had already drafted the\n",
    "formal declaration, to be ready when Congress voted on independence.\n",
    "\n",
    "John Adams persuaded the committee to select Thomas Jefferson to compose the original\n",
    "draft of the document, which Congress would edit to produce the final version.\n",
    "The Declaration was ultimately a formal explanation of why Congress had voted on July\n",
    "2 to declare independence from Great Britain, more than a year after the outbreak of\n",
    "the American Revolutionary War. The next day, Adams wrote to his wife Abigail: \"The\n",
    "Second Day of July 1776, will be the most memorable Epocha, in the History of America.\"\n",
    "But Independence Day is actually celebrated on July 4, the date that the Declaration of\n",
    "Independence was approved.\n",
    "\n",
    "After ratifying the text on July 4, Congress issued the Declaration of Independence in\n",
    "several forms. It was initially published as the printed Dunlap broadside that was widely\n",
    "distributed and read to the public. The source copy used for this printing has been lost,\n",
    "and may have been a copy in Thomas Jefferson's hand.[5] Jefferson's original draft, complete\n",
    "with changes made by John Adams and Benjamin Franklin, and Jefferson's notes of changes made\n",
    "by Congress, are preserved at the Library of Congress. The best-known version of the Declaration\n",
    "is a signed copy that is displayed at the National Archives in Washington, D.C., and which is\n",
    "popularly regarded as the official document. This engrossed copy was ordered by Congress on\n",
    "July 19 and signed primarily on August 2.\n",
    "\n",
    "The sources and interpretation of the Declaration have been the subject of much scholarly inquiry.\n",
    "The Declaration justified the independence of the United States by listing colonial grievances against\n",
    "King George III, and by asserting certain natural and legal rights, including a right of revolution.\n",
    "Having served its original purpose in announcing independence, references to the text of the\n",
    "Declaration were few in the following years. Abraham Lincoln made it the centerpiece of his rhetoric\n",
    "(as in the Gettysburg Address of 1863) and his policies. Since then, it has become a well-known statement\n",
    "on human rights, particularly its second sentence:\n",
    "\n",
    "We hold these truths to be self-evident, that all men are created equal, that they are endowed by their\n",
    "Creator with certain unalienable Rights, that among these are Life, Liberty and the pursuit of Happiness.\n",
    "\n",
    "This has been called \"one of the best-known sentences in the English language\", containing \"the most potent\n",
    "and consequential words in American history\". The passage came to represent a moral standard to which\n",
    "the United States should strive. This view was notably promoted by Abraham Lincoln, who considered the\n",
    "Declaration to be the foundation of his political philosophy and argued that it is a statement of principles\n",
    "through which the United States Constitution should be interpreted.\n",
    "\n",
    "The U.S. Declaration of Independence inspired many other similar documents in other countries, the first\n",
    "being the 1789 Declaration of Flanders issued during the Brabant Revolution in the Austrian Netherlands\n",
    "(modern-day Belgium). It also served as the primary model for numerous declarations of independence across\n",
    "Europe and Latin America, as well as Africa (Liberia) and Oceania (New Zealand) during the first half of the\n",
    "19th century.'''\n",
    "l1=x.split()\n"
   ]
  },
  {
   "cell_type": "code",
   "execution_count": 4,
   "metadata": {
    "collapsed": true
   },
   "outputs": [
    {
     "data": {
      "text/plain": [
       "['United',\n",
       " 'States',\n",
       " 'Declaration',\n",
       " 'of',\n",
       " 'Independence',\n",
       " 'From',\n",
       " 'Wikipedia,',\n",
       " 'the',\n",
       " 'free',\n",
       " 'encyclopedia',\n",
       " 'The',\n",
       " 'is',\n",
       " 'statement',\n",
       " 'adopted',\n",
       " 'by',\n",
       " 'Second',\n",
       " 'Continental',\n",
       " 'Congress',\n",
       " 'meeting',\n",
       " 'at',\n",
       " 'Pennsylvania',\n",
       " 'State',\n",
       " 'House',\n",
       " '(Independence',\n",
       " 'Hall)',\n",
       " 'in',\n",
       " 'Philadelphia',\n",
       " 'on',\n",
       " 'July',\n",
       " '4,',\n",
       " '1776,',\n",
       " 'which',\n",
       " 'announced',\n",
       " 'that',\n",
       " 'thirteen',\n",
       " 'American',\n",
       " 'colonies,',\n",
       " 'then',\n",
       " 'war',\n",
       " 'with',\n",
       " 'Kingdom',\n",
       " 'Great',\n",
       " 'Britain,',\n",
       " 'regarded',\n",
       " 'themselves',\n",
       " 'as',\n",
       " 'independent',\n",
       " 'sovereign',\n",
       " 'states,',\n",
       " 'no',\n",
       " 'longer',\n",
       " 'under',\n",
       " 'British',\n",
       " 'rule.',\n",
       " 'These',\n",
       " 'states',\n",
       " 'would',\n",
       " 'found',\n",
       " 'a',\n",
       " 'new',\n",
       " 'nation',\n",
       " '–',\n",
       " 'America.',\n",
       " 'John',\n",
       " 'Adams',\n",
       " 'was',\n",
       " 'leader',\n",
       " 'pushing',\n",
       " 'for',\n",
       " 'independence,',\n",
       " 'passed',\n",
       " '2',\n",
       " 'opposing',\n",
       " 'vote',\n",
       " 'cast.',\n",
       " 'A',\n",
       " 'committee',\n",
       " 'five',\n",
       " 'had',\n",
       " 'already',\n",
       " 'drafted',\n",
       " 'formal',\n",
       " 'declaration,',\n",
       " 'to',\n",
       " 'be',\n",
       " 'ready',\n",
       " 'when',\n",
       " 'voted',\n",
       " 'independence.',\n",
       " 'persuaded',\n",
       " 'select',\n",
       " 'Thomas',\n",
       " 'Jefferson',\n",
       " 'compose',\n",
       " 'original',\n",
       " 'draft',\n",
       " 'document,',\n",
       " 'edit',\n",
       " 'produce',\n",
       " 'final',\n",
       " 'version.',\n",
       " 'ultimately',\n",
       " 'explanation',\n",
       " 'why',\n",
       " 'declare',\n",
       " 'independence',\n",
       " 'from',\n",
       " 'more',\n",
       " 'than',\n",
       " 'year',\n",
       " 'after',\n",
       " 'outbreak',\n",
       " 'Revolutionary',\n",
       " 'War.',\n",
       " 'next',\n",
       " 'day,',\n",
       " 'wrote',\n",
       " 'his',\n",
       " 'wife',\n",
       " 'Abigail:',\n",
       " '\"The',\n",
       " 'Day',\n",
       " 'will',\n",
       " 'most',\n",
       " 'memorable',\n",
       " 'Epocha,',\n",
       " 'History',\n",
       " 'America.\"',\n",
       " 'But',\n",
       " 'actually',\n",
       " 'celebrated',\n",
       " 'date',\n",
       " 'approved.',\n",
       " 'After',\n",
       " 'ratifying',\n",
       " 'text',\n",
       " 'issued',\n",
       " 'several',\n",
       " 'forms.',\n",
       " 'It',\n",
       " 'initially',\n",
       " 'published',\n",
       " 'printed',\n",
       " 'Dunlap',\n",
       " 'broadside',\n",
       " 'widely',\n",
       " 'distributed',\n",
       " 'and',\n",
       " 'read',\n",
       " 'public.',\n",
       " 'source',\n",
       " 'copy',\n",
       " 'used',\n",
       " 'this',\n",
       " 'printing',\n",
       " 'has',\n",
       " 'been',\n",
       " 'lost,',\n",
       " 'may',\n",
       " 'have',\n",
       " \"Jefferson's\",\n",
       " 'hand.[5]',\n",
       " 'draft,',\n",
       " 'complete',\n",
       " 'changes',\n",
       " 'made',\n",
       " 'Benjamin',\n",
       " 'Franklin,',\n",
       " 'notes',\n",
       " 'Congress,',\n",
       " 'are',\n",
       " 'preserved',\n",
       " 'Library',\n",
       " 'Congress.',\n",
       " 'best-known',\n",
       " 'version',\n",
       " 'signed',\n",
       " 'displayed',\n",
       " 'National',\n",
       " 'Archives',\n",
       " 'Washington,',\n",
       " 'D.C.,',\n",
       " 'popularly',\n",
       " 'official',\n",
       " 'document.',\n",
       " 'This',\n",
       " 'engrossed',\n",
       " 'ordered',\n",
       " '19',\n",
       " 'primarily',\n",
       " 'August',\n",
       " '2.',\n",
       " 'sources',\n",
       " 'interpretation',\n",
       " 'subject',\n",
       " 'much',\n",
       " 'scholarly',\n",
       " 'inquiry.',\n",
       " 'justified',\n",
       " 'listing',\n",
       " 'colonial',\n",
       " 'grievances',\n",
       " 'against',\n",
       " 'King',\n",
       " 'George',\n",
       " 'III,',\n",
       " 'asserting',\n",
       " 'certain',\n",
       " 'natural',\n",
       " 'legal',\n",
       " 'rights,',\n",
       " 'including',\n",
       " 'right',\n",
       " 'revolution.',\n",
       " 'Having',\n",
       " 'served',\n",
       " 'its',\n",
       " 'purpose',\n",
       " 'announcing',\n",
       " 'references',\n",
       " 'were',\n",
       " 'few',\n",
       " 'following',\n",
       " 'years.',\n",
       " 'Abraham',\n",
       " 'Lincoln',\n",
       " 'it',\n",
       " 'centerpiece',\n",
       " 'rhetoric',\n",
       " '(as',\n",
       " 'Gettysburg',\n",
       " 'Address',\n",
       " '1863)',\n",
       " 'policies.',\n",
       " 'Since',\n",
       " 'then,',\n",
       " 'become',\n",
       " 'well-known',\n",
       " 'human',\n",
       " 'particularly',\n",
       " 'second',\n",
       " 'sentence:',\n",
       " 'We',\n",
       " 'hold',\n",
       " 'these',\n",
       " 'truths',\n",
       " 'self-evident,',\n",
       " 'all',\n",
       " 'men',\n",
       " 'created',\n",
       " 'equal,',\n",
       " 'they',\n",
       " 'endowed',\n",
       " 'their',\n",
       " 'Creator',\n",
       " 'unalienable',\n",
       " 'Rights,',\n",
       " 'among',\n",
       " 'Life,',\n",
       " 'Liberty',\n",
       " 'pursuit',\n",
       " 'Happiness.',\n",
       " 'called',\n",
       " '\"one',\n",
       " 'sentences',\n",
       " 'English',\n",
       " 'language\",',\n",
       " 'containing',\n",
       " '\"the',\n",
       " 'potent',\n",
       " 'consequential',\n",
       " 'words',\n",
       " 'history\".',\n",
       " 'passage',\n",
       " 'came',\n",
       " 'represent',\n",
       " 'moral',\n",
       " 'standard',\n",
       " 'should',\n",
       " 'strive.',\n",
       " 'view',\n",
       " 'notably',\n",
       " 'promoted',\n",
       " 'Lincoln,',\n",
       " 'who',\n",
       " 'considered',\n",
       " 'foundation',\n",
       " 'political',\n",
       " 'philosophy',\n",
       " 'argued',\n",
       " 'principles',\n",
       " 'through',\n",
       " 'Constitution',\n",
       " 'interpreted.',\n",
       " 'U.S.',\n",
       " 'inspired',\n",
       " 'many',\n",
       " 'other',\n",
       " 'similar',\n",
       " 'documents',\n",
       " 'countries,',\n",
       " 'first',\n",
       " 'being',\n",
       " '1789',\n",
       " 'Flanders',\n",
       " 'during',\n",
       " 'Brabant',\n",
       " 'Revolution',\n",
       " 'Austrian',\n",
       " 'Netherlands',\n",
       " '(modern-day',\n",
       " 'Belgium).',\n",
       " 'also',\n",
       " 'primary',\n",
       " 'model',\n",
       " 'numerous',\n",
       " 'declarations',\n",
       " 'across',\n",
       " 'Europe',\n",
       " 'Latin',\n",
       " 'America,',\n",
       " 'well',\n",
       " 'Africa',\n",
       " '(Liberia)',\n",
       " 'Oceania',\n",
       " '(New',\n",
       " 'Zealand)',\n",
       " 'half',\n",
       " '19th',\n",
       " 'century.']"
      ]
     },
     "execution_count": 4,
     "metadata": {},
     "output_type": "execute_result"
    }
   ],
   "source": [
    "l2=[]\n",
    "for y in l1:\n",
    "    if y not in l2:\n",
    "        l2.append(y)\n",
    "l2\n",
    "\n",
    "        "
   ]
  },
  {
   "cell_type": "code",
   "execution_count": 17,
   "metadata": {
    "collapsed": true
   },
   "outputs": [
    {
     "name": "stdout",
     "output_type": "stream",
     "text": [
      "United = 6\n",
      "States = 6\n",
      "Declaration = 12\n",
      "of = 30\n",
      "Independence = 6\n",
      "From = 1\n",
      "Wikipedia, = 1\n",
      "the = 49\n",
      "free = 1\n",
      "encyclopedia = 1\n",
      "The = 9\n",
      "is = 6\n",
      "statement = 3\n",
      "adopted = 1\n",
      "by = 8\n",
      "Second = 2\n",
      "Continental = 1\n",
      "Congress = 6\n",
      "meeting = 1\n",
      "at = 4\n",
      "Pennsylvania = 1\n",
      "State = 1\n",
      "House = 1\n",
      "(Independence = 1\n",
      "Hall) = 1\n",
      "in = 13\n",
      "Philadelphia = 1\n",
      "on = 9\n",
      "July = 7\n",
      "4, = 3\n",
      "1776, = 2\n",
      "which = 6\n",
      "announced = 1\n",
      "that = 8\n",
      "thirteen = 2\n",
      "American = 3\n",
      "colonies, = 1\n",
      "then = 1\n",
      "war = 1\n",
      "with = 4\n",
      "Kingdom = 1\n",
      "Great = 2\n",
      "Britain, = 2\n",
      "regarded = 2\n",
      "themselves = 1\n",
      "as = 6\n",
      "independent = 1\n",
      "sovereign = 1\n",
      "states, = 1\n",
      "no = 2\n",
      "longer = 1\n",
      "under = 1\n",
      "British = 1\n",
      "rule. = 1\n",
      "These = 1\n",
      "states = 1\n",
      "would = 2\n",
      "found = 1\n",
      "a = 10\n",
      "new = 1\n",
      "nation = 1\n",
      "– = 1\n",
      "America. = 1\n",
      "John = 3\n",
      "Adams = 4\n",
      "was = 8\n",
      "leader = 1\n",
      "pushing = 1\n",
      "for = 3\n",
      "independence, = 2\n",
      "passed = 1\n",
      "2 = 2\n",
      "opposing = 1\n",
      "vote = 1\n",
      "cast. = 1\n",
      "A = 1\n",
      "committee = 2\n",
      "five = 1\n",
      "had = 2\n",
      "already = 1\n",
      "drafted = 1\n",
      "formal = 2\n",
      "declaration, = 1\n",
      "to = 12\n",
      "be = 5\n",
      "ready = 1\n",
      "when = 1\n",
      "voted = 2\n",
      "independence. = 1\n",
      "persuaded = 1\n",
      "select = 1\n",
      "Thomas = 2\n",
      "Jefferson = 1\n",
      "compose = 1\n",
      "original = 3\n",
      "draft = 1\n",
      "document, = 1\n",
      "edit = 1\n",
      "produce = 1\n",
      "final = 1\n",
      "version. = 1\n",
      "ultimately = 1\n",
      "explanation = 1\n",
      "why = 1\n",
      "declare = 1\n",
      "independence = 3\n",
      "from = 1\n",
      "more = 1\n",
      "than = 1\n",
      "year = 1\n",
      "after = 1\n",
      "outbreak = 1\n",
      "Revolutionary = 1\n",
      "War. = 1\n",
      "next = 1\n",
      "day, = 1\n",
      "wrote = 1\n",
      "his = 4\n",
      "wife = 1\n",
      "Abigail: = 1\n",
      "\"The = 1\n",
      "Day = 2\n",
      "will = 1\n",
      "most = 2\n",
      "memorable = 1\n",
      "Epocha, = 1\n",
      "History = 1\n",
      "America.\" = 1\n",
      "But = 1\n",
      "actually = 1\n",
      "celebrated = 1\n",
      "date = 1\n",
      "approved. = 1\n",
      "After = 1\n",
      "ratifying = 1\n",
      "text = 2\n",
      "issued = 2\n",
      "several = 1\n",
      "forms. = 1\n",
      "It = 2\n",
      "initially = 1\n",
      "published = 1\n",
      "printed = 1\n",
      "Dunlap = 1\n",
      "broadside = 1\n",
      "widely = 1\n",
      "distributed = 1\n",
      "and = 15\n",
      "read = 1\n",
      "public. = 1\n",
      "source = 1\n",
      "copy = 4\n",
      "used = 1\n",
      "this = 1\n",
      "printing = 1\n",
      "has = 3\n",
      "been = 4\n",
      "lost, = 1\n",
      "may = 1\n",
      "have = 2\n",
      "Jefferson's = 3\n",
      "hand.[5] = 1\n",
      "draft, = 1\n",
      "complete = 1\n",
      "changes = 2\n",
      "made = 3\n",
      "Benjamin = 1\n",
      "Franklin, = 1\n",
      "notes = 1\n",
      "Congress, = 1\n",
      "are = 4\n",
      "preserved = 1\n",
      "Library = 1\n",
      "Congress. = 1\n",
      "best-known = 2\n",
      "version = 1\n",
      "signed = 2\n",
      "displayed = 1\n",
      "National = 1\n",
      "Archives = 1\n",
      "Washington, = 1\n",
      "D.C., = 1\n",
      "popularly = 1\n",
      "official = 1\n",
      "document. = 1\n",
      "This = 3\n",
      "engrossed = 1\n",
      "ordered = 1\n",
      "19 = 1\n",
      "primarily = 1\n",
      "August = 1\n",
      "2. = 1\n",
      "sources = 1\n",
      "interpretation = 1\n",
      "subject = 1\n",
      "much = 1\n",
      "scholarly = 1\n",
      "inquiry. = 1\n",
      "justified = 1\n",
      "listing = 1\n",
      "colonial = 1\n",
      "grievances = 1\n",
      "against = 1\n",
      "King = 1\n",
      "George = 1\n",
      "III, = 1\n",
      "asserting = 1\n",
      "certain = 2\n",
      "natural = 1\n",
      "legal = 1\n",
      "rights, = 2\n",
      "including = 1\n",
      "right = 1\n",
      "revolution. = 1\n",
      "Having = 1\n",
      "served = 2\n",
      "its = 2\n",
      "purpose = 1\n",
      "announcing = 1\n",
      "references = 1\n",
      "were = 1\n",
      "few = 1\n",
      "following = 1\n",
      "years. = 1\n",
      "Abraham = 2\n",
      "Lincoln = 1\n",
      "it = 3\n",
      "centerpiece = 1\n",
      "rhetoric = 1\n",
      "(as = 1\n",
      "Gettysburg = 1\n",
      "Address = 1\n",
      "1863) = 1\n",
      "policies. = 1\n",
      "Since = 1\n",
      "then, = 1\n",
      "become = 1\n",
      "well-known = 1\n",
      "human = 1\n",
      "particularly = 1\n",
      "second = 1\n",
      "sentence: = 1\n",
      "We = 1\n",
      "hold = 1\n",
      "these = 2\n",
      "truths = 1\n",
      "self-evident, = 1\n",
      "all = 1\n",
      "men = 1\n",
      "created = 1\n",
      "equal, = 1\n",
      "they = 1\n",
      "endowed = 1\n",
      "their = 1\n",
      "Creator = 1\n",
      "unalienable = 1\n",
      "Rights, = 1\n",
      "among = 1\n",
      "Life, = 1\n",
      "Liberty = 1\n",
      "pursuit = 1\n",
      "Happiness. = 1\n",
      "called = 1\n",
      "\"one = 1\n",
      "sentences = 1\n",
      "English = 1\n",
      "language\", = 1\n",
      "containing = 1\n",
      "\"the = 1\n",
      "potent = 1\n",
      "consequential = 1\n",
      "words = 1\n",
      "history\". = 1\n",
      "passage = 1\n",
      "came = 1\n",
      "represent = 1\n",
      "moral = 1\n",
      "standard = 1\n",
      "should = 2\n",
      "strive. = 1\n",
      "view = 1\n",
      "notably = 1\n",
      "promoted = 1\n",
      "Lincoln, = 1\n",
      "who = 1\n",
      "considered = 1\n",
      "foundation = 1\n",
      "political = 1\n",
      "philosophy = 1\n",
      "argued = 1\n",
      "principles = 1\n",
      "through = 1\n",
      "Constitution = 1\n",
      "interpreted. = 1\n",
      "U.S. = 1\n",
      "inspired = 1\n",
      "many = 1\n",
      "other = 2\n",
      "similar = 1\n",
      "documents = 1\n",
      "countries, = 1\n",
      "first = 2\n",
      "being = 1\n",
      "1789 = 1\n",
      "Flanders = 1\n",
      "during = 2\n",
      "Brabant = 1\n",
      "Revolution = 1\n",
      "Austrian = 1\n",
      "Netherlands = 1\n",
      "(modern-day = 1\n",
      "Belgium). = 1\n",
      "also = 1\n",
      "primary = 1\n",
      "model = 1\n",
      "numerous = 1\n",
      "declarations = 1\n",
      "across = 1\n",
      "Europe = 1\n",
      "Latin = 1\n",
      "America, = 1\n",
      "well = 1\n",
      "Africa = 1\n",
      "(Liberia) = 1\n",
      "Oceania = 1\n",
      "(New = 1\n",
      "Zealand) = 1\n",
      "half = 1\n",
      "19th = 1\n",
      "century. = 1\n"
     ]
    }
   ],
   "source": [
    "count=0\n",
    "l3=[]\n",
    "for z in l2:\n",
    "    for k in l1:\n",
    "        if(z==k):\n",
    "            count+=1\n",
    "    print(z,\"=\",count)\n",
    "    count=0"
   ]
  },
  {
   "cell_type": "code",
   "execution_count": 40,
   "metadata": {},
   "outputs": [],
   "source": [
    "count=0\n",
    "l3=[]\n",
    "for z in l2:\n",
    "    for k in l1:\n",
    "        if(z==k):\n",
    "            count+=1\n",
    "    l3.append(count)\n",
    "    count=0\n"
   ]
  },
  {
   "cell_type": "code",
   "execution_count": 43,
   "metadata": {},
   "outputs": [
    {
     "data": {
      "text/plain": [
       "330"
      ]
     },
     "execution_count": 43,
     "metadata": {},
     "output_type": "execute_result"
    }
   ],
   "source": [
    "m=zip(l2,l3)\n",
    "m=set(m)\n",
    "len(m)"
   ]
  },
  {
   "cell_type": "code",
   "execution_count": 54,
   "metadata": {
    "collapsed": true
   },
   "outputs": [
    {
     "data": {
      "text/plain": [
       "{('\"The', 1),\n",
       " ('\"one', 1),\n",
       " ('\"the', 1),\n",
       " ('(Independence', 1),\n",
       " ('(Liberia)', 1),\n",
       " ('(New', 1),\n",
       " ('(as', 1),\n",
       " ('(modern-day', 1),\n",
       " ('1776,', 2),\n",
       " ('1789', 1),\n",
       " ('1863)', 1),\n",
       " ('19', 1),\n",
       " ('19th', 1),\n",
       " ('2', 2),\n",
       " ('2.', 1),\n",
       " ('4,', 3),\n",
       " ('A', 1),\n",
       " ('Abigail:', 1),\n",
       " ('Abraham', 2),\n",
       " ('Adams', 4),\n",
       " ('Address', 1),\n",
       " ('Africa', 1),\n",
       " ('After', 1),\n",
       " ('America,', 1),\n",
       " ('America.', 1),\n",
       " ('America.\"', 1),\n",
       " ('American', 3),\n",
       " ('Archives', 1),\n",
       " ('August', 1),\n",
       " ('Austrian', 1),\n",
       " ('Belgium).', 1),\n",
       " ('Benjamin', 1),\n",
       " ('Brabant', 1),\n",
       " ('Britain,', 2),\n",
       " ('British', 1),\n",
       " ('But', 1),\n",
       " ('Congress', 6),\n",
       " ('Congress,', 1),\n",
       " ('Congress.', 1),\n",
       " ('Constitution', 1),\n",
       " ('Continental', 1),\n",
       " ('Creator', 1),\n",
       " ('D.C.,', 1),\n",
       " ('Day', 2),\n",
       " ('Declaration', 12),\n",
       " ('Dunlap', 1),\n",
       " ('English', 1),\n",
       " ('Epocha,', 1),\n",
       " ('Europe', 1),\n",
       " ('Flanders', 1),\n",
       " ('Franklin,', 1),\n",
       " ('From', 1),\n",
       " ('George', 1),\n",
       " ('Gettysburg', 1),\n",
       " ('Great', 2),\n",
       " ('Hall)', 1),\n",
       " ('Happiness.', 1),\n",
       " ('Having', 1),\n",
       " ('History', 1),\n",
       " ('House', 1),\n",
       " ('III,', 1),\n",
       " ('Independence', 6),\n",
       " ('It', 2),\n",
       " ('Jefferson', 1),\n",
       " (\"Jefferson's\", 3),\n",
       " ('John', 3),\n",
       " ('July', 7),\n",
       " ('King', 1),\n",
       " ('Kingdom', 1),\n",
       " ('Latin', 1),\n",
       " ('Liberty', 1),\n",
       " ('Library', 1),\n",
       " ('Life,', 1),\n",
       " ('Lincoln', 1),\n",
       " ('Lincoln,', 1),\n",
       " ('National', 1),\n",
       " ('Netherlands', 1),\n",
       " ('Oceania', 1),\n",
       " ('Pennsylvania', 1),\n",
       " ('Philadelphia', 1),\n",
       " ('Revolution', 1),\n",
       " ('Revolutionary', 1),\n",
       " ('Rights,', 1),\n",
       " ('Second', 2),\n",
       " ('Since', 1),\n",
       " ('State', 1),\n",
       " ('States', 6),\n",
       " ('The', 9),\n",
       " ('These', 1),\n",
       " ('This', 3),\n",
       " ('Thomas', 2),\n",
       " ('U.S.', 1),\n",
       " ('United', 6),\n",
       " ('War.', 1),\n",
       " ('Washington,', 1),\n",
       " ('We', 1),\n",
       " ('Wikipedia,', 1),\n",
       " ('Zealand)', 1),\n",
       " ('a', 10),\n",
       " ('across', 1),\n",
       " ('actually', 1),\n",
       " ('adopted', 1),\n",
       " ('after', 1),\n",
       " ('against', 1),\n",
       " ('all', 1),\n",
       " ('already', 1),\n",
       " ('also', 1),\n",
       " ('among', 1),\n",
       " ('and', 15),\n",
       " ('announced', 1),\n",
       " ('announcing', 1),\n",
       " ('approved.', 1),\n",
       " ('are', 4),\n",
       " ('argued', 1),\n",
       " ('as', 6),\n",
       " ('asserting', 1),\n",
       " ('at', 4),\n",
       " ('be', 5),\n",
       " ('become', 1),\n",
       " ('been', 4),\n",
       " ('being', 1),\n",
       " ('best-known', 2),\n",
       " ('broadside', 1),\n",
       " ('by', 8),\n",
       " ('called', 1),\n",
       " ('came', 1),\n",
       " ('cast.', 1),\n",
       " ('celebrated', 1),\n",
       " ('centerpiece', 1),\n",
       " ('century.', 1),\n",
       " ('certain', 2),\n",
       " ('changes', 2),\n",
       " ('colonial', 1),\n",
       " ('colonies,', 1),\n",
       " ('committee', 2),\n",
       " ('complete', 1),\n",
       " ('compose', 1),\n",
       " ('consequential', 1),\n",
       " ('considered', 1),\n",
       " ('containing', 1),\n",
       " ('copy', 4),\n",
       " ('countries,', 1),\n",
       " ('created', 1),\n",
       " ('date', 1),\n",
       " ('day,', 1),\n",
       " ('declaration,', 1),\n",
       " ('declarations', 1),\n",
       " ('declare', 1),\n",
       " ('displayed', 1),\n",
       " ('distributed', 1),\n",
       " ('document,', 1),\n",
       " ('document.', 1),\n",
       " ('documents', 1),\n",
       " ('draft', 1),\n",
       " ('draft,', 1),\n",
       " ('drafted', 1),\n",
       " ('during', 2),\n",
       " ('edit', 1),\n",
       " ('encyclopedia', 1),\n",
       " ('endowed', 1),\n",
       " ('engrossed', 1),\n",
       " ('equal,', 1),\n",
       " ('explanation', 1),\n",
       " ('few', 1),\n",
       " ('final', 1),\n",
       " ('first', 2),\n",
       " ('five', 1),\n",
       " ('following', 1),\n",
       " ('for', 3),\n",
       " ('formal', 2),\n",
       " ('forms.', 1),\n",
       " ('found', 1),\n",
       " ('foundation', 1),\n",
       " ('free', 1),\n",
       " ('from', 1),\n",
       " ('grievances', 1),\n",
       " ('had', 2),\n",
       " ('half', 1),\n",
       " ('hand.[5]', 1),\n",
       " ('has', 3),\n",
       " ('have', 2),\n",
       " ('his', 4),\n",
       " ('history\".', 1),\n",
       " ('hold', 1),\n",
       " ('human', 1),\n",
       " ('in', 13),\n",
       " ('including', 1),\n",
       " ('independence', 3),\n",
       " ('independence,', 2),\n",
       " ('independence.', 1),\n",
       " ('independent', 1),\n",
       " ('initially', 1),\n",
       " ('inquiry.', 1),\n",
       " ('inspired', 1),\n",
       " ('interpretation', 1),\n",
       " ('interpreted.', 1),\n",
       " ('is', 6),\n",
       " ('issued', 2),\n",
       " ('it', 3),\n",
       " ('its', 2),\n",
       " ('justified', 1),\n",
       " ('language\",', 1),\n",
       " ('leader', 1),\n",
       " ('legal', 1),\n",
       " ('listing', 1),\n",
       " ('longer', 1),\n",
       " ('lost,', 1),\n",
       " ('made', 3),\n",
       " ('many', 1),\n",
       " ('may', 1),\n",
       " ('meeting', 1),\n",
       " ('memorable', 1),\n",
       " ('men', 1),\n",
       " ('model', 1),\n",
       " ('moral', 1),\n",
       " ('more', 1),\n",
       " ('most', 2),\n",
       " ('much', 1),\n",
       " ('nation', 1),\n",
       " ('natural', 1),\n",
       " ('new', 1),\n",
       " ('next', 1),\n",
       " ('no', 2),\n",
       " ('notably', 1),\n",
       " ('notes', 1),\n",
       " ('numerous', 1),\n",
       " ('of', 30),\n",
       " ('official', 1),\n",
       " ('on', 9),\n",
       " ('opposing', 1),\n",
       " ('ordered', 1),\n",
       " ('original', 3),\n",
       " ('other', 2),\n",
       " ('outbreak', 1),\n",
       " ('particularly', 1),\n",
       " ('passage', 1),\n",
       " ('passed', 1),\n",
       " ('persuaded', 1),\n",
       " ('philosophy', 1),\n",
       " ('policies.', 1),\n",
       " ('political', 1),\n",
       " ('popularly', 1),\n",
       " ('potent', 1),\n",
       " ('preserved', 1),\n",
       " ('primarily', 1),\n",
       " ('primary', 1),\n",
       " ('principles', 1),\n",
       " ('printed', 1),\n",
       " ('printing', 1),\n",
       " ('produce', 1),\n",
       " ('promoted', 1),\n",
       " ('public.', 1),\n",
       " ('published', 1),\n",
       " ('purpose', 1),\n",
       " ('pursuit', 1),\n",
       " ('pushing', 1),\n",
       " ('ratifying', 1),\n",
       " ('read', 1),\n",
       " ('ready', 1),\n",
       " ('references', 1),\n",
       " ('regarded', 2),\n",
       " ('represent', 1),\n",
       " ('revolution.', 1),\n",
       " ('rhetoric', 1),\n",
       " ('right', 1),\n",
       " ('rights,', 2),\n",
       " ('rule.', 1),\n",
       " ('scholarly', 1),\n",
       " ('second', 1),\n",
       " ('select', 1),\n",
       " ('self-evident,', 1),\n",
       " ('sentence:', 1),\n",
       " ('sentences', 1),\n",
       " ('served', 2),\n",
       " ('several', 1),\n",
       " ('should', 2),\n",
       " ('signed', 2),\n",
       " ('similar', 1),\n",
       " ('source', 1),\n",
       " ('sources', 1),\n",
       " ('sovereign', 1),\n",
       " ('standard', 1),\n",
       " ('statement', 3),\n",
       " ('states', 1),\n",
       " ('states,', 1),\n",
       " ('strive.', 1),\n",
       " ('subject', 1),\n",
       " ('text', 2),\n",
       " ('than', 1),\n",
       " ('that', 8),\n",
       " ('the', 49),\n",
       " ('their', 1),\n",
       " ('themselves', 1),\n",
       " ('then', 1),\n",
       " ('then,', 1),\n",
       " ('these', 2),\n",
       " ('they', 1),\n",
       " ('thirteen', 2),\n",
       " ('this', 1),\n",
       " ('through', 1),\n",
       " ('to', 12),\n",
       " ('truths', 1),\n",
       " ('ultimately', 1),\n",
       " ('unalienable', 1),\n",
       " ('under', 1),\n",
       " ('used', 1),\n",
       " ('version', 1),\n",
       " ('version.', 1),\n",
       " ('view', 1),\n",
       " ('vote', 1),\n",
       " ('voted', 2),\n",
       " ('war', 1),\n",
       " ('was', 8),\n",
       " ('well', 1),\n",
       " ('well-known', 1),\n",
       " ('were', 1),\n",
       " ('when', 1),\n",
       " ('which', 6),\n",
       " ('who', 1),\n",
       " ('why', 1),\n",
       " ('widely', 1),\n",
       " ('wife', 1),\n",
       " ('will', 1),\n",
       " ('with', 4),\n",
       " ('words', 1),\n",
       " ('would', 2),\n",
       " ('wrote', 1),\n",
       " ('year', 1),\n",
       " ('years.', 1),\n",
       " ('–', 1)}"
      ]
     },
     "execution_count": 54,
     "metadata": {},
     "output_type": "execute_result"
    }
   ],
   "source": [
    "count=0\n",
    "l4=[]\n",
    "for z in l1:\n",
    "    p=l1.count(z)\n",
    "    l4.append(p)\n",
    "p1=zip(l1,l4)\n",
    "p1=set(p1)\n",
    "p1"
   ]
  },
  {
   "cell_type": "code",
   "execution_count": 55,
   "metadata": {},
   "outputs": [],
   "source": [
    "X = [10, 20, 20, 20]\n",
    "Y = [10, 20, 30, 40]\n",
    "Z = [10, 30, 40, 20]\n",
    "\n",
    "x=len(X)\n",
    "y=len(Y)\n",
    "z=len(Z)"
   ]
  },
  {
   "cell_type": "code",
   "execution_count": 65,
   "metadata": {},
   "outputs": [
    {
     "data": {
      "text/plain": [
       "{(10, 20, 40),\n",
       " (10, 30, 30),\n",
       " (10, 40, 20),\n",
       " (20, 10, 40),\n",
       " (20, 20, 30),\n",
       " (20, 30, 20),\n",
       " (20, 40, 10)}"
      ]
     },
     "execution_count": 65,
     "metadata": {},
     "output_type": "execute_result"
    }
   ],
   "source": [
    "l5=[]\n",
    "for i in range(0,x):\n",
    "    for j in range(0,y):\n",
    "        for k in range(0,z):\n",
    "            if(X[i]+Y[j]+Z[k]==70):\n",
    "                h=X[i],Y[j],Z[k]\n",
    "                l5.append(h)\n",
    "                \n",
    "l5=set(l5)\n",
    "l5\n"
   ]
  },
  {
   "cell_type": "code",
   "execution_count": 37,
   "metadata": {},
   "outputs": [
    {
     "data": {
      "text/plain": [
       "[(1, 2, 3), (1, 3, 2), (2, 1, 3), (2, 3, 1), (3, 1, 2), (3, 2, 1)]"
      ]
     },
     "execution_count": 37,
     "metadata": {},
     "output_type": "execute_result"
    }
   ],
   "source": [
    "l1=[1,2,3]\n",
    "l2=[]\n",
    "for i in l1:\n",
    "    for j in l1:\n",
    "        if (i!=j):\n",
    "            for k in l1:\n",
    "                if i!=k and j!=k:\n",
    "                    h=i,j,k\n",
    "                    l2.append(h)\n",
    "\n",
    "                   \n",
    "\n",
    "l2"
   ]
  },
  {
   "cell_type": "code",
   "execution_count": 21,
   "metadata": {},
   "outputs": [
    {
     "name": "stdout",
     "output_type": "stream",
     "text": [
      "All the permutations of the given container is:\n",
      "[(0, 1), (0, 2), (1, 0), (1, 2), (2, 0), (2, 1)]\n"
     ]
    }
   ],
   "source": [
    "from itertools import permutations \n",
    "print (\"All the permutations of the given container is:\")   \n",
    "print(list(permutations(range(3),2)))"
   ]
  },
  {
   "cell_type": "code",
   "execution_count": 34,
   "metadata": {
    "scrolled": true
   },
   "outputs": [
    {
     "data": {
      "text/plain": [
       "dict"
      ]
     },
     "execution_count": 34,
     "metadata": {},
     "output_type": "execute_result"
    }
   ],
   "source": [
    "string_maps = {\n",
    "        \"1\": \"abc\",\n",
    "        \"2\": \"def\",\n",
    "        \"3\": \"ghi\",\n",
    "        \"4\": \"jkl\",\n",
    "        \"5\": \"mno\",\n",
    "        \"6\": \"pqrs\",\n",
    "        \"7\": \"tuv\",\n",
    "        \"8\": \"wxy\",\n",
    "        \"9\": \"z\"\n",
    "    }\n",
    "type(string_maps)"
   ]
  },
  {
   "cell_type": "code",
   "execution_count": 35,
   "metadata": {
    "scrolled": true
   },
   "outputs": [
    {
     "name": "stdout",
     "output_type": "stream",
     "text": [
      "['jt', 'ju', 'jv', 'kt', 'ku', 'kv', 'lt', 'lu', 'lv']\n",
      "['dz', 'ez', 'fz']\n"
     ]
    }
   ],
   "source": [
    "def comb(x):\n",
    "    l1=[]    \n",
    "    for i in string_maps[x[0]]:\n",
    "            for j in string_maps[x[1]]:\n",
    "                    l1.append(i+j)\n",
    "                \n",
    "    return l1       \n",
    "print(comb(\"47\"))\n",
    "print(comb(\"29\"))\n"
   ]
  },
  {
   "cell_type": "code",
   "execution_count": 38,
   "metadata": {},
   "outputs": [],
   "source": [
    "## ques no.17 basic exercise part 2 not done"
   ]
  },
  {
   "cell_type": "code",
   "execution_count": null,
   "metadata": {},
   "outputs": [],
   "source": [
    "value=\"248163264\"\n",
    "count=1\n",
    "a=2\n",
    "b=1\n",
    "d=True\n",
    "while(d):\n",
    "    if str(a) in value:\n",
    "        count+=1\n",
    "        a=a**b\n",
    "    else:\n",
    "        d=False\n",
    "print(count)    "
   ]
  },
  {
   "cell_type": "code",
   "execution_count": null,
   "metadata": {},
   "outputs": [],
   "source": [
    "a=5"
   ]
  },
  {
   "cell_type": "code",
   "execution_count": null,
   "metadata": {},
   "outputs": [],
   "source": []
  }
 ],
 "metadata": {
  "kernelspec": {
   "display_name": "Python 3",
   "language": "python",
   "name": "python3"
  },
  "language_info": {
   "codemirror_mode": {
    "name": "ipython",
    "version": 3
   },
   "file_extension": ".py",
   "mimetype": "text/x-python",
   "name": "python",
   "nbconvert_exporter": "python",
   "pygments_lexer": "ipython3",
   "version": "3.7.6"
  }
 },
 "nbformat": 4,
 "nbformat_minor": 4
}
